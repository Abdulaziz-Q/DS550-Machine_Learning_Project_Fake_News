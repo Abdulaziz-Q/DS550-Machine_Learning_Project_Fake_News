{
  "nbformat": 4,
  "nbformat_minor": 0,
  "metadata": {
    "colab": {
      "name": "Real_Fake_news.ipynb",
      "provenance": [],
      "collapsed_sections": []
    },
    "kernelspec": {
      "name": "python3",
      "display_name": "Python 3"
    },
    "language_info": {
      "name": "python"
    },
    "accelerator": "GPU"
  },
  "cells": [
    {
      "cell_type": "code",
      "metadata": {
        "id": "pydtL2jhDTEM"
      },
      "source": [
        "pip install mlxtend --upgrade "
      ],
      "execution_count": null,
      "outputs": []
    },
    {
      "cell_type": "code",
      "metadata": {
        "colab": {
          "base_uri": "https://localhost:8080/",
          "height": 381
        },
        "id": "bcc4pkZyvs6S",
        "outputId": "4b7185fa-5da9-4572-b557-940b7e6c7eae"
      },
      "source": [
        "pip install pandas --upgrade "
      ],
      "execution_count": 2,
      "outputs": [
        {
          "output_type": "stream",
          "name": "stdout",
          "text": [
            "Requirement already satisfied: pandas in /usr/local/lib/python3.7/dist-packages (1.1.5)\n",
            "Collecting pandas\n",
            "  Downloading pandas-1.3.4-cp37-cp37m-manylinux_2_17_x86_64.manylinux2014_x86_64.whl (11.3 MB)\n",
            "\u001b[K     |████████████████████████████████| 11.3 MB 10.9 MB/s \n",
            "\u001b[?25hRequirement already satisfied: python-dateutil>=2.7.3 in /usr/local/lib/python3.7/dist-packages (from pandas) (2.8.2)\n",
            "Requirement already satisfied: numpy>=1.17.3 in /usr/local/lib/python3.7/dist-packages (from pandas) (1.19.5)\n",
            "Requirement already satisfied: pytz>=2017.3 in /usr/local/lib/python3.7/dist-packages (from pandas) (2018.9)\n",
            "Requirement already satisfied: six>=1.5 in /usr/local/lib/python3.7/dist-packages (from python-dateutil>=2.7.3->pandas) (1.15.0)\n",
            "Installing collected packages: pandas\n",
            "  Attempting uninstall: pandas\n",
            "    Found existing installation: pandas 1.1.5\n",
            "    Uninstalling pandas-1.1.5:\n",
            "      Successfully uninstalled pandas-1.1.5\n",
            "\u001b[31mERROR: pip's dependency resolver does not currently take into account all the packages that are installed. This behaviour is the source of the following dependency conflicts.\n",
            "google-colab 1.0.0 requires pandas~=1.1.0; python_version >= \"3.0\", but you have pandas 1.3.4 which is incompatible.\u001b[0m\n",
            "Successfully installed pandas-1.3.4\n"
          ]
        },
        {
          "output_type": "display_data",
          "data": {
            "application/vnd.colab-display-data+json": {
              "pip_warning": {
                "packages": [
                  "pandas"
                ]
              }
            }
          },
          "metadata": {}
        }
      ]
    },
    {
      "cell_type": "code",
      "metadata": {
        "colab": {
          "base_uri": "https://localhost:8080/",
          "height": 35
        },
        "id": "Buqmu-7SuBR2",
        "outputId": "81accafb-1ed0-4798-c48f-fe287dbf5efa"
      },
      "source": [
        "import pandas as pd\n",
        "import csv\n",
        "pd.__version__"
      ],
      "execution_count": 1,
      "outputs": [
        {
          "output_type": "execute_result",
          "data": {
            "application/vnd.google.colaboratory.intrinsic+json": {
              "type": "string"
            },
            "text/plain": [
              "'1.3.4'"
            ]
          },
          "metadata": {},
          "execution_count": 1
        }
      ]
    },
    {
      "cell_type": "code",
      "metadata": {
        "colab": {
          "base_uri": "https://localhost:8080/"
        },
        "id": "XEtb697-qNtN",
        "outputId": "1858872f-f08b-4c83-855c-a56142f7bf64"
      },
      "source": [
        "skip=[x for x in range(15,22)]\n",
        "df=pd.read_csv('/content/Fake news dataset(1).csv' ,quoting=0, encoding= 'unicode_escape',error_bad_lines=False,engine='python')"
      ],
      "execution_count": 2,
      "outputs": [
        {
          "output_type": "stream",
          "name": "stderr",
          "text": [
            "/usr/local/lib/python3.7/dist-packages/IPython/core/interactiveshell.py:2882: FutureWarning: The error_bad_lines argument has been deprecated and will be removed in a future version.\n",
            "\n",
            "\n",
            "  exec(code_obj, self.user_global_ns, self.user_ns)\n",
            "Skipping line 1071: unexpected end of data\n"
          ]
        }
      ]
    },
    {
      "cell_type": "code",
      "metadata": {
        "colab": {
          "base_uri": "https://localhost:8080/",
          "height": 206
        },
        "id": "c3Vrv1-FHS8Q",
        "outputId": "1037e2d9-2db3-4a56-81fe-e9fd30a8610e"
      },
      "source": [
        "df.head()"
      ],
      "execution_count": 3,
      "outputs": [
        {
          "output_type": "execute_result",
          "data": {
            "text/html": [
              "<div>\n",
              "<style scoped>\n",
              "    .dataframe tbody tr th:only-of-type {\n",
              "        vertical-align: middle;\n",
              "    }\n",
              "\n",
              "    .dataframe tbody tr th {\n",
              "        vertical-align: top;\n",
              "    }\n",
              "\n",
              "    .dataframe thead th {\n",
              "        text-align: right;\n",
              "    }\n",
              "</style>\n",
              "<table border=\"1\" class=\"dataframe\">\n",
              "  <thead>\n",
              "    <tr style=\"text-align: right;\">\n",
              "      <th></th>\n",
              "      <th>Unnamed: 0</th>\n",
              "      <th>id</th>\n",
              "      <th>title</th>\n",
              "      <th>author</th>\n",
              "      <th>text</th>\n",
              "      <th>label</th>\n",
              "    </tr>\n",
              "  </thead>\n",
              "  <tbody>\n",
              "    <tr>\n",
              "      <th>0</th>\n",
              "      <td>0</td>\n",
              "      <td>0</td>\n",
              "      <td>House Dem Aide: We Didnât Even See Comeyâs...</td>\n",
              "      <td>Darrell Lucus</td>\n",
              "      <td>House Dem Aide: We Didnât Even See Comeyâs...</td>\n",
              "      <td>1</td>\n",
              "    </tr>\n",
              "    <tr>\n",
              "      <th>1</th>\n",
              "      <td>1</td>\n",
              "      <td>1</td>\n",
              "      <td>FLYNN: Hillary Clinton, Big Woman on Campus - ...</td>\n",
              "      <td>Daniel J. Flynn</td>\n",
              "      <td>Ever get the feeling your life circles the rou...</td>\n",
              "      <td>0</td>\n",
              "    </tr>\n",
              "    <tr>\n",
              "      <th>2</th>\n",
              "      <td>3</td>\n",
              "      <td>3</td>\n",
              "      <td>15 Civilians Killed In Single US Airstrike Hav...</td>\n",
              "      <td>Jessica Purkiss</td>\n",
              "      <td>Videos 15 Civilians Killed In Single US Airstr...</td>\n",
              "      <td>1</td>\n",
              "    </tr>\n",
              "    <tr>\n",
              "      <th>3</th>\n",
              "      <td>4</td>\n",
              "      <td>4</td>\n",
              "      <td>Iranian woman jailed for fictional unpublished...</td>\n",
              "      <td>Howard Portnoy</td>\n",
              "      <td>Print \\nAn Iranian woman has been sentenced to...</td>\n",
              "      <td>1</td>\n",
              "    </tr>\n",
              "    <tr>\n",
              "      <th>4</th>\n",
              "      <td>5</td>\n",
              "      <td>5</td>\n",
              "      <td>Jackie Mason: Hollywood Would Love Trump if He...</td>\n",
              "      <td>Daniel Nussbaum</td>\n",
              "      <td>In these trying times, Jackie Mason is the Voi...</td>\n",
              "      <td>0</td>\n",
              "    </tr>\n",
              "  </tbody>\n",
              "</table>\n",
              "</div>"
            ],
            "text/plain": [
              "   Unnamed: 0  id  ...                                               text label\n",
              "0           0   0  ...  House Dem Aide: We Didnât Even See Comeyâs...     1\n",
              "1           1   1  ...  Ever get the feeling your life circles the rou...     0\n",
              "2           3   3  ...  Videos 15 Civilians Killed In Single US Airstr...     1\n",
              "3           4   4  ...  Print \\nAn Iranian woman has been sentenced to...     1\n",
              "4           5   5  ...  In these trying times, Jackie Mason is the Voi...     0\n",
              "\n",
              "[5 rows x 6 columns]"
            ]
          },
          "metadata": {},
          "execution_count": 3
        }
      ]
    },
    {
      "cell_type": "code",
      "metadata": {
        "colab": {
          "base_uri": "https://localhost:8080/",
          "height": 206
        },
        "id": "MpCE7N7EsrUf",
        "outputId": "a33c89ca-e134-4e7a-f4c4-6847638e3789"
      },
      "source": [
        "df=df.drop(columns=['Unnamed: 0','id'])\n",
        "df.head()"
      ],
      "execution_count": null,
      "outputs": [
        {
          "output_type": "execute_result",
          "data": {
            "text/html": [
              "<div>\n",
              "<style scoped>\n",
              "    .dataframe tbody tr th:only-of-type {\n",
              "        vertical-align: middle;\n",
              "    }\n",
              "\n",
              "    .dataframe tbody tr th {\n",
              "        vertical-align: top;\n",
              "    }\n",
              "\n",
              "    .dataframe thead th {\n",
              "        text-align: right;\n",
              "    }\n",
              "</style>\n",
              "<table border=\"1\" class=\"dataframe\">\n",
              "  <thead>\n",
              "    <tr style=\"text-align: right;\">\n",
              "      <th></th>\n",
              "      <th>title</th>\n",
              "      <th>author</th>\n",
              "      <th>text</th>\n",
              "      <th>label</th>\n",
              "    </tr>\n",
              "  </thead>\n",
              "  <tbody>\n",
              "    <tr>\n",
              "      <th>0</th>\n",
              "      <td>House Dem Aide: We Didnât Even See Comeyâs...</td>\n",
              "      <td>Darrell Lucus</td>\n",
              "      <td>House Dem Aide: We Didnât Even See Comeyâs...</td>\n",
              "      <td>1</td>\n",
              "    </tr>\n",
              "    <tr>\n",
              "      <th>1</th>\n",
              "      <td>FLYNN: Hillary Clinton, Big Woman on Campus - ...</td>\n",
              "      <td>Daniel J. Flynn</td>\n",
              "      <td>Ever get the feeling your life circles the rou...</td>\n",
              "      <td>0</td>\n",
              "    </tr>\n",
              "    <tr>\n",
              "      <th>2</th>\n",
              "      <td>15 Civilians Killed In Single US Airstrike Hav...</td>\n",
              "      <td>Jessica Purkiss</td>\n",
              "      <td>Videos 15 Civilians Killed In Single US Airstr...</td>\n",
              "      <td>1</td>\n",
              "    </tr>\n",
              "    <tr>\n",
              "      <th>3</th>\n",
              "      <td>Iranian woman jailed for fictional unpublished...</td>\n",
              "      <td>Howard Portnoy</td>\n",
              "      <td>Print \\nAn Iranian woman has been sentenced to...</td>\n",
              "      <td>1</td>\n",
              "    </tr>\n",
              "    <tr>\n",
              "      <th>4</th>\n",
              "      <td>Jackie Mason: Hollywood Would Love Trump if He...</td>\n",
              "      <td>Daniel Nussbaum</td>\n",
              "      <td>In these trying times, Jackie Mason is the Voi...</td>\n",
              "      <td>0</td>\n",
              "    </tr>\n",
              "  </tbody>\n",
              "</table>\n",
              "</div>"
            ],
            "text/plain": [
              "                                               title  ... label\n",
              "0  House Dem Aide: We Didnât Even See Comeyâs...  ...     1\n",
              "1  FLYNN: Hillary Clinton, Big Woman on Campus - ...  ...     0\n",
              "2  15 Civilians Killed In Single US Airstrike Hav...  ...     1\n",
              "3  Iranian woman jailed for fictional unpublished...  ...     1\n",
              "4  Jackie Mason: Hollywood Would Love Trump if He...  ...     0\n",
              "\n",
              "[5 rows x 4 columns]"
            ]
          },
          "metadata": {},
          "execution_count": 14
        }
      ]
    },
    {
      "cell_type": "code",
      "metadata": {
        "colab": {
          "base_uri": "https://localhost:8080/"
        },
        "id": "oZ-dJrRkstkT",
        "outputId": "647de469-22a5-4ac6-ad81-d4376bf47e0d"
      },
      "source": [
        "df.info()"
      ],
      "execution_count": null,
      "outputs": [
        {
          "output_type": "stream",
          "name": "stdout",
          "text": [
            "<class 'pandas.core.frame.DataFrame'>\n",
            "RangeIndex: 1710 entries, 0 to 1709\n",
            "Data columns (total 4 columns):\n",
            " #   Column  Non-Null Count  Dtype \n",
            "---  ------  --------------  ----- \n",
            " 0   title   1657 non-null   object\n",
            " 1   author  1543 non-null   object\n",
            " 2   text    1706 non-null   object\n",
            " 3   label   1710 non-null   int64 \n",
            "dtypes: int64(1), object(3)\n",
            "memory usage: 53.6+ KB\n"
          ]
        }
      ]
    },
    {
      "cell_type": "code",
      "metadata": {
        "colab": {
          "base_uri": "https://localhost:8080/"
        },
        "id": "3f9nEUi5tcvz",
        "outputId": "02db4179-2b54-4ce4-c65f-f1da30e47484"
      },
      "source": [
        "df.isnull().sum()"
      ],
      "execution_count": null,
      "outputs": [
        {
          "output_type": "execute_result",
          "data": {
            "text/plain": [
              "title      53\n",
              "author    167\n",
              "text        4\n",
              "label       0\n",
              "dtype: int64"
            ]
          },
          "metadata": {},
          "execution_count": 16
        }
      ]
    },
    {
      "cell_type": "code",
      "metadata": {
        "colab": {
          "base_uri": "https://localhost:8080/",
          "height": 296
        },
        "id": "_ZYMtE14tqxC",
        "outputId": "e3c14ddb-9b0a-446d-95c1-a093910881c1"
      },
      "source": [
        "import seaborn as sns\n",
        "sns.countplot(x='label', data = df)"
      ],
      "execution_count": null,
      "outputs": [
        {
          "output_type": "execute_result",
          "data": {
            "text/plain": [
              "<matplotlib.axes._subplots.AxesSubplot at 0x7f46e72add50>"
            ]
          },
          "metadata": {},
          "execution_count": 17
        },
        {
          "output_type": "display_data",
          "data": {
            "image/png": "[encoded data removed]",
            "text/plain": [
              "<Figure size 432x288 with 1 Axes>"
            ]
          },
          "metadata": {
            "needs_background": "light"
          }
        }
      ]
    },
    {
      "cell_type": "code",
      "metadata": {
        "colab": {
          "base_uri": "https://localhost:8080/"
        },
        "id": "gezavV05z2QZ",
        "outputId": "b20cd231-3dc4-4ec5-d91d-624c541545a9"
      },
      "source": [
        "df['text']"
      ],
      "execution_count": null,
      "outputs": [
        {
          "output_type": "execute_result",
          "data": {
            "text/plain": [
              "0       House Dem Aide: We Didnât Even See Comeyâs...\n",
              "1       Ever get the feeling your life circles the rou...\n",
              "2       Videos 15 Civilians Killed In Single US Airstr...\n",
              "3       Print \\nAn Iranian woman has been sentenced to...\n",
              "4       In these trying times, Jackie Mason is the Voi...\n",
              "                              ...                        \n",
              "1705    American Renaissance, October 31, 2016 Share T...\n",
              "1706    Friday 18 November 2016 by Alex Webster Manneq...\n",
              "1707    Obama pushes illegal immigrants to vote in U.S...\n",
              "1708    VATICAN CITY  â   For a while, Senator Berni...\n",
              "1709    While ordinary Americans nationwide work on Th...\n",
              "Name: text, Length: 1710, dtype: object"
            ]
          },
          "metadata": {},
          "execution_count": 18
        }
      ]
    },
    {
      "cell_type": "code",
      "metadata": {
        "id": "3wPhu2GD2CWe"
      },
      "source": [
        "import numpy as np\n",
        "df['text'] = df['text'].str.strip()\n",
        "df['text'] = df['text'].replace(r'^\\s*$', np.nan, regex=True)"
      ],
      "execution_count": null,
      "outputs": []
    },
    {
      "cell_type": "code",
      "metadata": {
        "id": "1hZOc97sWnaE"
      },
      "source": [
        "import numpy as np\n",
        "df['title'] = df['title'].str.strip()\n",
        "df['title'] = df['title'].replace(r'^\\s*$', np.nan, regex=True)"
      ],
      "execution_count": null,
      "outputs": []
    },
    {
      "cell_type": "code",
      "metadata": {
        "colab": {
          "base_uri": "https://localhost:8080/"
        },
        "id": "bfB49gguWuEU",
        "outputId": "8f40dd59-96f4-4596-aaf8-4db5e21bad8c"
      },
      "source": [
        "df.dropna(subset=['text'], inplace=True)\n",
        "df.dropna(subset=['title'], inplace=True)\n",
        "print(df.shape)\n",
        "print(df.isnull().sum())"
      ],
      "execution_count": null,
      "outputs": [
        {
          "output_type": "stream",
          "name": "stdout",
          "text": [
            "(1642, 4)\n",
            "title       0\n",
            "author    163\n",
            "text        0\n",
            "label       0\n",
            "dtype: int64\n"
          ]
        }
      ]
    },
    {
      "cell_type": "code",
      "metadata": {
        "colab": {
          "base_uri": "https://localhost:8080/"
        },
        "id": "_fZ1EnSz2a5-",
        "outputId": "570d3cd6-de1d-4aa7-81b2-4175763e9ae0"
      },
      "source": [
        "df=df.fillna('')\n",
        "df.isnull().sum()"
      ],
      "execution_count": null,
      "outputs": [
        {
          "output_type": "execute_result",
          "data": {
            "text/plain": [
              "title     0\n",
              "author    0\n",
              "text      0\n",
              "label     0\n",
              "dtype: int64"
            ]
          },
          "metadata": {},
          "execution_count": 22
        }
      ]
    },
    {
      "cell_type": "code",
      "metadata": {
        "colab": {
          "base_uri": "https://localhost:8080/"
        },
        "id": "tzdlFslI21wK",
        "outputId": "4a8947cb-db0c-4f52-c36c-de4d0b36f8bb"
      },
      "source": [
        "import nltk\n",
        "nltk.download('stopwords')\n",
        "nltk.download('wordnet')\n",
        "from nltk.corpus import stopwords"
      ],
      "execution_count": null,
      "outputs": [
        {
          "output_type": "stream",
          "name": "stdout",
          "text": [
            "[nltk_data] Downloading package stopwords to /root/nltk_data...\n",
            "[nltk_data]   Unzipping corpora/stopwords.zip.\n",
            "[nltk_data] Downloading package wordnet to /root/nltk_data...\n",
            "[nltk_data]   Unzipping corpora/wordnet.zip.\n"
          ]
        }
      ]
    },
    {
      "cell_type": "code",
      "metadata": {
        "id": "038YgWdN4CiI"
      },
      "source": [
        "import string\n",
        "import re\n",
        "from nltk.tokenize import RegexpTokenizer\n",
        "\n",
        "STOPWORDS = set(stopwords.words('english'))\n",
        "def cleaning_stopwords(text):\n",
        "    return \" \".join([word for word in str(text).split() if word not in STOPWORDS])\n",
        "english_punctuations = string.punctuation\n",
        "punctuations_list = english_punctuations\n",
        "def cleaning_punctuations(text):\n",
        "    translator = str.maketrans('', '', punctuations_list)\n",
        "    return text.translate(translator)\n",
        "def cleaning_repeating_char(text):\n",
        "    return re.sub(r'(.)\\1+', r'\\1', text)\n",
        "def cleaning_email(data):\n",
        "    return re.sub('@[^\\s]+', ' ', data)\n",
        "def cleaning_URLs(data):\n",
        "    return re.sub('((www\\.[^\\s]+)|(https?://[^\\s]+))',' ',data)\n",
        "def cleaning_numbers(data):\n",
        "    return re.sub('[0-9]+', '', data)\n",
        "tokenizer = RegexpTokenizer(r'\\w+')\n",
        "st = nltk.PorterStemmer()\n",
        "def stemming_on_text(data):\n",
        "    text = [st.stem(word) for word in data]\n",
        "    return text\n",
        "lm = nltk.WordNetLemmatizer()\n",
        "def lemmatizer_on_text(data):\n",
        "    text = [lm.lemmatize(word) for word in data]\n",
        "    return text\n",
        "def preprocesses_data(data):\n",
        "  data = data.apply(lambda text: cleaning_stopwords(text))\n",
        "  data= data.apply(lambda x: cleaning_punctuations(x))\n",
        "  data = data.apply(lambda x: cleaning_repeating_char(x))\n",
        "  data= data.apply(lambda x: cleaning_email(x))\n",
        "  data= data.apply(lambda x: cleaning_URLs(x))\n",
        "  data = data.apply(lambda x: cleaning_numbers(x))\n",
        "  data = data.apply(tokenizer.tokenize)\n",
        "  data= data.apply(lambda x: stemming_on_text(x))\n",
        "  data = data.apply(lambda x: lemmatizer_on_text(x))\n",
        "  data = data.apply(lambda x: ' '.join(x))\n",
        "\n",
        "  return data"
      ],
      "execution_count": null,
      "outputs": []
    },
    {
      "cell_type": "code",
      "metadata": {
        "id": "M1r1PBIm4Ur8"
      },
      "source": [
        "train_data=preprocesses_data(df['text'])"
      ],
      "execution_count": null,
      "outputs": []
    },
    {
      "cell_type": "code",
      "metadata": {
        "colab": {
          "base_uri": "https://localhost:8080/"
        },
        "id": "WIFVqeLj7bpX",
        "outputId": "e43d9d51-914b-4ce4-effe-69d512c163a7"
      },
      "source": [
        "print('Before Preprocessed data:\\n',df['text'][1])"
      ],
      "execution_count": null,
      "outputs": [
        {
          "output_type": "stream",
          "name": "stdout",
          "text": [
            "Before Preprocessed data:\n",
            " Ever get the feeling your life circles the roundabout rather than heads in a straight line toward the intended destination? [Hillary Clinton remains the big woman on campus in leafy, liberal Wellesley, Massachusetts. Everywhere else votes her most likely to don her inauguration dress for the remainder of her days the way Miss Havisham forever wore that wedding dress.  Speaking of Great Expectations, Hillary Rodham overflowed with them 48 years ago when she first addressed a Wellesley graduating class. The president of the college informed those gathered in 1969 that the students needed âno debate so far as I could ascertain as to who their spokesman was to beâ (kind of the like the Democratic primaries in 2016 minus the   terms unknown then even at a Seven Sisters school). âI am very glad that Miss Adams made it clear that what I am speaking for today is all of us â  the 400 of us,â Miss Rodham told her classmates. After appointing herself Edger Bergen to the Charlie McCarthys and Mortimer Snerds in attendance, the    bespectacled in granny glasses (awarding her matronly wisdom â  or at least John Lennon wisdom) took issue with the previous speaker. Despite becoming the first   to win election to a seat in the U. S. Senate since Reconstruction, Edward Brooke came in for criticism for calling for âempathyâ for the goals of protestors as he criticized tactics. Though Clinton in her senior thesis on Saul Alinsky lamented âBlack Power demagoguesâ and âelitist arrogance and repressive intoleranceâ within the New Left, similar words coming out of a Republican necessitated a brief rebuttal. âTrust,â Rodham ironically observed in 1969, âthis is one word that when I asked the class at our rehearsal what it was they wanted me to say for them, everyone came up to me and said âTalk about trust, talk about the lack of trust both for us and the way we feel about others. Talk about the trust bust.â What can you say about it? What can you say about a feeling that permeates a generation and that perhaps is not even understood by those who are distrusted?â The âtrust bustâ certainly busted Clintonâs 2016 plans. She certainly did not even understand that people distrusted her. After Whitewater, Travelgate, the vast   conspiracy, Benghazi, and the missing emails, Clinton found herself the distrusted voice on Friday. There was a load of compromising on the road to the broadening of her political horizons. And distrust from the American people â  Trump edged her 48 percent to 38 percent on the question immediately prior to Novemberâs election â  stood as a major reason for the closing of those horizons. Clinton described her vanquisher and his supporters as embracing a âlie,â a âcon,â âalternative facts,â and âa   assault on truth and reason. â She failed to explain why the American people chose his lies over her truth. âAs the history majors among you here today know all too well, when people in power invent their own facts and attack those who question them, it can mark the beginning of the end of a free society,â she offered. âThat is not hyperbole. â Like so many people to emerge from the 1960s, Hillary Clinton embarked upon a long, strange trip. From high school Goldwater Girl and Wellesley College Republican president to Democratic politician, Clinton drank in the times and the place that gave her a degree. More significantly, she went from idealist to cynic, as a comparison of her two Wellesley commencement addresses show. Way back when, she lamented that âfor too long our leaders have viewed politics as the art of the possible, and the challenge now is to practice politics as the art of making what appears to be impossible possible. â Now, as the big woman on campus but the odd woman out of the White House, she wonders how her current station is even possible. âWhy arenât I 50 points ahead?â she asked in September. In May she asks why she isnât president. The woman famously dubbed a âcongenital liarâ by Bill Safire concludes that lies did her in â  theirs, mind you, not hers. Getting stood up on Election Day, like finding yourself the jilted bride on your wedding day, inspires dangerous delusions.\n"
          ]
        }
      ]
    },
    {
      "cell_type": "code",
      "metadata": {
        "colab": {
          "base_uri": "https://localhost:8080/"
        },
        "id": "rx7FcTve4qKa",
        "outputId": "59d97f6a-066c-4c54-ef68-20b71cbc23d9"
      },
      "source": [
        "print('Preprocessed data:\\n',train_data[1])"
      ],
      "execution_count": null,
      "outputs": [
        {
          "output_type": "stream",
          "name": "stdout",
          "text": [
            "Preprocessed data:\n",
            " ever get fele life circl roundabout rather head straight line toward intend destin hilari clinton remain big woman campu leafi liber welesley masachuset everywher el vote like inaugur dre remaind day way mi havisham forev wore wede dre speak great expect hilari rodham overflow year ago first adres welesley graduat cla the presid coleg inform gather student nede â no debat far I could ascertain spokesman beâ kind like democrat primari minu term unknown even seven sister schol â I glad mi adam made clear I speak today u â usâ mi rodham told clasmat after apoint edger bergen charli mccarthi mortim snerd atend bespectacl grani glase award matronli wisdom â least john lenon wisdom tok isu previou speaker despit becom first win elect seat U S senat sinc reconstruct edward broke came critic cale â empathyâ goal protestor critic tactic though clinton senior thesi saul alinski lament â black power demagoguesâ â elitist arog repres intoleranceâ within new left similar word come republican necesit brief rebut â trustâ rodham ironicali observ â thi one word I ask cla rehears want say them everyon came said â talk trust talk lack trust u way fel other talk trust bustâ what say it what say fele permeat gener perhap even understod distrustedâ the â trust bustâ certainli bust clintonâ s plan she certainli even understand peopl distrust her after whitewat travelg vast conspiraci benghazi mise email clinton found distrust voic friday there load compromis road broaden polit horizon and distrust american peopl â trump edg percent percent question imedi prior novemberâ s elect â stod major reason close horizon clinton describ vanquish suport embrac â lieâ â conâ â altern factsâ â a asault truth reason â she fail explain american peopl chose lie truth â As histori major among today know wel peopl power invent fact atack question them mark begin end fre societyâ ofer â that hyperbol â like mani peopl emerg s hilari clinton embark upon long strang trip from high schol goldwat girl welesley coleg republican presid democrat politician clinton drank time place gave degr more significantli went idealist cynic comparison two welesley comenc adres show way back when lament â for long leader view polit art posibl chaleng practic polit art make apear impos posibl â now big woman campu od woman white hous wonder curent station even posibl â whi arenâ t I point aheadâ ask septemb In may ask isnâ t presid the woman famous dube â congenit liarâ bil safir conclud lie â their mind you her gete stod elect day like find jilt bride wede day inspir danger delus\n"
          ]
        }
      ]
    },
    {
      "cell_type": "code",
      "metadata": {
        "id": "PSWN5Tke7PeC"
      },
      "source": [
        "x = train_data\n",
        "y = df['label'].values"
      ],
      "execution_count": null,
      "outputs": []
    },
    {
      "cell_type": "markdown",
      "metadata": {
        "id": "z_ql7mv_somx"
      },
      "source": [
        "# TFIDF Vectorizer"
      ]
    },
    {
      "cell_type": "code",
      "metadata": {
        "id": "-0vJjJlpss-i"
      },
      "source": [
        "from sklearn.feature_extraction.text import TfidfVectorizer\n",
        "tfidf_vectorizer = TfidfVectorizer()\n",
        "X = tfidf_vectorizer.fit_transform(x)"
      ],
      "execution_count": null,
      "outputs": []
    },
    {
      "cell_type": "code",
      "metadata": {
        "colab": {
          "base_uri": "https://localhost:8080/"
        },
        "id": "x4yJt6tUswza",
        "outputId": "d24cba00-6818-4de0-a5db-860a77ee329e"
      },
      "source": [
        "from sklearn.model_selection import train_test_split\n",
        "X_train, X_test, y_train, y_test = train_test_split(X, y, test_size=0.20, random_state=42)\n",
        "print(\"Train size:\", X_train.shape)\n",
        "print(\"Test size:\", X_test.shape)"
      ],
      "execution_count": null,
      "outputs": [
        {
          "output_type": "stream",
          "name": "stdout",
          "text": [
            "Train size: (1313, 34388)\n",
            "Test size: (329, 34388)\n"
          ]
        }
      ]
    },
    {
      "cell_type": "code",
      "metadata": {
        "colab": {
          "base_uri": "https://localhost:8080/"
        },
        "id": "M5LnGJDcsy0S",
        "outputId": "a2e0a4fa-7973-476c-8b8a-9491c01d894e"
      },
      "source": [
        "from sklearn.linear_model import LogisticRegression\n",
        "model = LogisticRegression()\n",
        "model.fit(X_train, y_train)"
      ],
      "execution_count": null,
      "outputs": [
        {
          "output_type": "execute_result",
          "data": {
            "text/plain": [
              "LogisticRegression()"
            ]
          },
          "metadata": {},
          "execution_count": 31
        }
      ]
    },
    {
      "cell_type": "code",
      "metadata": {
        "colab": {
          "base_uri": "https://localhost:8080/"
        },
        "id": "8q3bz-ejs09r",
        "outputId": "94c6ee08-6015-4db6-95da-8ac77cb01182"
      },
      "source": [
        "from sklearn.metrics import accuracy_score, confusion_matrix, precision_score, classification_report\n",
        "import matplotlib.pyplot as plt\n",
        "target_names=['Fake News', 'Real News']\n",
        "\n",
        "# predict on train data\n",
        "X_train_predict = model.predict(X_train)\n",
        "# train_accuracy\n",
        "train_accuracy = accuracy_score(y_train, X_train_predict)\n",
        "print('Train Accuracy:',train_accuracy)\n",
        "# predict on test data\n",
        "X_test_predict = model.predict(X_test)\n",
        "# test_accuracy\n",
        "test_accuracy = accuracy_score(y_test, X_test_predict)\n",
        "print('Test Accuracy:',test_accuracy)"
      ],
      "execution_count": null,
      "outputs": [
        {
          "output_type": "stream",
          "name": "stdout",
          "text": [
            "Train Accuracy: 0.9916222391469917\n",
            "Test Accuracy: 0.9148936170212766\n"
          ]
        }
      ]
    },
    {
      "cell_type": "code",
      "metadata": {
        "colab": {
          "base_uri": "https://localhost:8080/"
        },
        "id": "N1kOW_Z5s4Sc",
        "outputId": "cd230318-4b1d-4e6b-d0e5-3818dab5a282"
      },
      "source": [
        "cm_train=confusion_matrix(y_test, X_test_predict)\n",
        "print(cm_train)"
      ],
      "execution_count": null,
      "outputs": [
        {
          "output_type": "stream",
          "name": "stdout",
          "text": [
            "[[156  19]\n",
            " [  9 145]]\n"
          ]
        }
      ]
    },
    {
      "cell_type": "code",
      "metadata": {
        "colab": {
          "base_uri": "https://localhost:8080/"
        },
        "id": "NLU-OXBjs34B",
        "outputId": "34218775-aa3c-45be-d176-c9ed70766ce0"
      },
      "source": [
        "print(classification_report(y_test, X_test_predict, target_names=target_names))"
      ],
      "execution_count": null,
      "outputs": [
        {
          "output_type": "stream",
          "name": "stdout",
          "text": [
            "              precision    recall  f1-score   support\n",
            "\n",
            "   Fake News       0.95      0.89      0.92       175\n",
            "   Real News       0.88      0.94      0.91       154\n",
            "\n",
            "    accuracy                           0.91       329\n",
            "   macro avg       0.91      0.92      0.91       329\n",
            "weighted avg       0.92      0.91      0.91       329\n",
            "\n"
          ]
        }
      ]
    },
    {
      "cell_type": "code",
      "metadata": {
        "colab": {
          "base_uri": "https://localhost:8080/",
          "height": 314
        },
        "id": "fqxGOJOJs-ZT",
        "outputId": "9f2de6b9-057f-462e-a93a-4e0dd6b8c786"
      },
      "source": [
        "from mlxtend.plotting import plot_confusion_matrix\n",
        "fig, ax = plot_confusion_matrix(conf_mat=cm_train,\n",
        "                                colorbar=True,\n",
        "                                show_absolute=False,\n",
        "                                show_normed=True,\n",
        "                                class_names=target_names)\n",
        "plt.show()"
      ],
      "execution_count": null,
      "outputs": [
        {
          "output_type": "display_data",
          "data": {
            "image/png": "[encoded data removed]",
            "text/plain": [
              "<Figure size 432x288 with 2 Axes>"
            ]
          },
          "metadata": {
            "needs_background": "light"
          }
        }
      ]
    },
    {
      "cell_type": "code",
      "metadata": {
        "id": "NAEHmOXnzqRA"
      },
      "source": [
        "import os\n",
        "if not os.path.exists('/content/drive/MyDrive/Fake_news/models'):\n",
        "    os.makedirs('/content/drive/MyDrive/Fake_news/models')"
      ],
      "execution_count": null,
      "outputs": []
    },
    {
      "cell_type": "code",
      "metadata": {
        "id": "lCtKfLqXwYHT"
      },
      "source": [
        "import pickle\n",
        "filename = '/content/drive/MyDrive/Fake_news/models/TFIDF.sav'\n",
        "pickle.dump(model, open(filename, 'wb'))"
      ],
      "execution_count": null,
      "outputs": []
    },
    {
      "cell_type": "markdown",
      "metadata": {
        "id": "D6lHAlbuFUzJ"
      },
      "source": [
        "# TFIDF Vectorizer + features"
      ]
    },
    {
      "cell_type": "code",
      "metadata": {
        "id": "UVio63gU7uHC"
      },
      "source": [
        "from sklearn.feature_extraction.text import TfidfVectorizer\n",
        "tfidf_vectorizer = TfidfVectorizer(max_features=5000, ngram_range=(1,3))\n",
        "X = tfidf_vectorizer.fit_transform(x)"
      ],
      "execution_count": null,
      "outputs": []
    },
    {
      "cell_type": "code",
      "metadata": {
        "colab": {
          "base_uri": "https://localhost:8080/"
        },
        "id": "CFXixo2d72gy",
        "outputId": "07b3e941-7656-410a-d277-dab531f284f0"
      },
      "source": [
        "from sklearn.model_selection import train_test_split\n",
        "X_train, X_test, y_train, y_test = train_test_split(X, y, test_size=0.20, random_state=42)\n",
        "print(\"Train size:\", X_train.shape)\n",
        "print(\"Test size:\", X_test.shape)"
      ],
      "execution_count": null,
      "outputs": [
        {
          "output_type": "stream",
          "name": "stdout",
          "text": [
            "Train size: (1313, 5000)\n",
            "Test size: (329, 5000)\n"
          ]
        }
      ]
    },
    {
      "cell_type": "code",
      "metadata": {
        "colab": {
          "base_uri": "https://localhost:8080/"
        },
        "id": "PlDesaIj8Aw-",
        "outputId": "e5283a3d-d47c-43c6-f285-b9d20fba4054"
      },
      "source": [
        "from sklearn.linear_model import LogisticRegression\n",
        "model = LogisticRegression(C=5)\n",
        "model.fit(X_train, y_train)"
      ],
      "execution_count": null,
      "outputs": [
        {
          "output_type": "execute_result",
          "data": {
            "text/plain": [
              "LogisticRegression(C=5)"
            ]
          },
          "metadata": {},
          "execution_count": 40
        }
      ]
    },
    {
      "cell_type": "code",
      "metadata": {
        "colab": {
          "base_uri": "https://localhost:8080/"
        },
        "id": "CPnfL-DO9K8o",
        "outputId": "52f0e3da-3f22-48cc-f787-6aa34bf32d6a"
      },
      "source": [
        "from sklearn.metrics import accuracy_score, confusion_matrix, precision_score, classification_report\n",
        "import matplotlib.pyplot as plt\n",
        "target_names=['Fake News', 'Real News']\n",
        "\n",
        "# predict on train data\n",
        "X_train_predict = model.predict(X_train)\n",
        "# train_accuracy\n",
        "train_accuracy = accuracy_score(y_train, X_train_predict)\n",
        "print('Train Accuracy:',train_accuracy)\n",
        "# predict on test data\n",
        "X_test_predict = model.predict(X_test)\n",
        "# test_accuracy\n",
        "test_accuracy = accuracy_score(y_test, X_test_predict)\n",
        "print('Test Accuracy:',test_accuracy)"
      ],
      "execution_count": null,
      "outputs": [
        {
          "output_type": "stream",
          "name": "stdout",
          "text": [
            "Train Accuracy: 0.9984767707539984\n",
            "Test Accuracy: 0.9179331306990881\n"
          ]
        }
      ]
    },
    {
      "cell_type": "code",
      "metadata": {
        "colab": {
          "base_uri": "https://localhost:8080/"
        },
        "id": "LOpFYW779kLf",
        "outputId": "03f970a9-b034-49b7-b72d-a5d82e7e4357"
      },
      "source": [
        "cm_train=confusion_matrix(y_test, X_test_predict)\n",
        "print(cm_train)"
      ],
      "execution_count": null,
      "outputs": [
        {
          "output_type": "stream",
          "name": "stdout",
          "text": [
            "[[161  14]\n",
            " [ 13 141]]\n"
          ]
        }
      ]
    },
    {
      "cell_type": "code",
      "metadata": {
        "colab": {
          "base_uri": "https://localhost:8080/"
        },
        "id": "rFkEOVTt_zlI",
        "outputId": "40a4bfc2-86b2-44fb-e5ac-fc9bb6793103"
      },
      "source": [
        "print(classification_report(y_test, X_test_predict, target_names=target_names))"
      ],
      "execution_count": null,
      "outputs": [
        {
          "output_type": "stream",
          "name": "stdout",
          "text": [
            "              precision    recall  f1-score   support\n",
            "\n",
            "   Fake News       0.93      0.92      0.92       175\n",
            "   Real News       0.91      0.92      0.91       154\n",
            "\n",
            "    accuracy                           0.92       329\n",
            "   macro avg       0.92      0.92      0.92       329\n",
            "weighted avg       0.92      0.92      0.92       329\n",
            "\n"
          ]
        }
      ]
    },
    {
      "cell_type": "code",
      "metadata": {
        "colab": {
          "base_uri": "https://localhost:8080/",
          "height": 314
        },
        "id": "TouZyBnbAM7K",
        "outputId": "cb4d69db-7810-45ad-b27e-8c6a1de28238"
      },
      "source": [
        "from mlxtend.plotting import plot_confusion_matrix\n",
        "fig, ax = plot_confusion_matrix(conf_mat=cm_train,\n",
        "                                colorbar=True,\n",
        "                                show_absolute=False,\n",
        "                                show_normed=True,\n",
        "                                class_names=target_names)\n",
        "plt.show()"
      ],
      "execution_count": null,
      "outputs": [
        {
          "output_type": "display_data",
          "data": {
            "image/png": "[encoded data removed]",
            "text/plain": [
              "<Figure size 432x288 with 2 Axes>"
            ]
          },
          "metadata": {
            "needs_background": "light"
          }
        }
      ]
    },
    {
      "cell_type": "code",
      "metadata": {
        "id": "v1EDOj_dwdOv"
      },
      "source": [
        "filename = '/content/drive/MyDrive/Fake_news/models/TFIDF_featured.sav'\n",
        "pickle.dump(model, open(filename, 'wb'))"
      ],
      "execution_count": null,
      "outputs": []
    },
    {
      "cell_type": "markdown",
      "metadata": {
        "id": "mXYZfp7RtCDi"
      },
      "source": [
        "# Words Embendings"
      ]
    },
    {
      "cell_type": "code",
      "metadata": {
        "id": "9llRmiOos_cB"
      },
      "source": [
        "from keras.preprocessing.text import Tokenizer\n",
        "from tensorflow.keras.preprocessing import sequence\n",
        "max_len = 500\n",
        "tok = Tokenizer(num_words=2000)\n",
        "tok.fit_on_texts(x)\n",
        "sequences = tok.texts_to_sequences(x)\n",
        "sequences_matrix = sequence.pad_sequences(sequences,maxlen=max_len)"
      ],
      "execution_count": null,
      "outputs": []
    },
    {
      "cell_type": "code",
      "metadata": {
        "colab": {
          "base_uri": "https://localhost:8080/"
        },
        "id": "4EuQ91pX1_Hj",
        "outputId": "e728f55d-4bfb-4c99-b701-cc1c8cd60423"
      },
      "source": [
        "print('sequences',sequences[1])\n",
        "print('\\nsequences_matrix',sequences_matrix[1])"
      ],
      "execution_count": null,
      "outputs": [
        {
          "output_type": "stream",
          "name": "stdout",
          "text": [
            "sequences [405, 53, 1286, 157, 640, 349, 397, 435, 1111, 84, 34, 284, 317, 71, 580, 303, 82, 16, 1471, 40, 57, 1679, 446, 270, 294, 84, 19, 302, 41, 1670, 1810, 798, 5, 24, 834, 251, 1008, 566, 1023, 1, 321, 628, 223, 8, 36, 1488, 421, 16, 86, 1014, 579, 35, 1054, 253, 1, 8, 1679, 96, 434, 8, 446, 272, 60, 1, 1679, 126, 358, 865, 772, 1272, 1, 258, 503, 292, 159, 1389, 1827, 585, 161, 41, 443, 43, 982, 60, 2, 196, 131, 1273, 273, 263, 128, 1, 964, 263, 1506, 257, 34, 671, 1, 217, 151, 1, 348, 621, 14, 293, 822, 412, 51, 85, 794, 1, 1096, 1, 33, 11, 412, 8, 123, 798, 49, 26, 207, 630, 273, 6, 1, 155, 983, 155, 1242, 983, 60, 57, 278, 194, 155, 983, 177, 26, 15, 177, 26, 1286, 138, 702, 35, 5, 1, 983, 1159, 569, 2, 162, 139, 1159, 35, 567, 17, 428, 358, 1575, 1811, 1520, 147, 34, 184, 943, 505, 95, 1979, 698, 61, 27, 30, 17, 1, 9, 119, 119, 150, 911, 1643, 2, 43, 1, 1616, 185, 359, 248, 34, 513, 55, 1693, 1, 1, 1, 1229, 1, 22, 1076, 1000, 359, 1, 139, 529, 565, 30, 17, 887, 744, 1000, 1, 110, 390, 185, 203, 272, 64, 107, 17, 151, 261, 140, 150, 207, 758, 481, 130, 342, 345, 1, 56, 1, 16, 38, 17, 660, 2, 84, 34, 1032, 154, 1302, 795, 384, 253, 916, 834, 85, 24, 86, 1077, 34, 20, 144, 734, 1133, 424, 523, 42, 1670, 68, 57, 73, 191, 1, 158, 154, 190, 308, 61, 970, 250, 787, 777, 61, 970, 31, 201, 823, 250, 1, 178, 317, 71, 1872, 71, 81, 54, 1207, 452, 1112, 35, 250, 1, 817, 1417, 10, 8, 111, 123, 1243, 18, 70, 123, 849, 10, 24, 5, 71, 1, 313, 1600, 744, 1, 1190, 581, 91, 428, 552, 1616, 43, 40, 16, 246, 40, 1457, 862]\n",
            "\n",
            "sequences_matrix [   0    0    0    0    0    0    0    0    0    0    0    0    0    0\n",
            "    0    0    0    0    0    0    0    0    0    0    0    0    0    0\n",
            "    0    0    0    0    0    0    0    0    0    0    0    0    0    0\n",
            "    0    0    0    0    0    0    0    0    0    0    0    0    0    0\n",
            "    0    0    0    0    0    0    0    0    0    0    0    0    0    0\n",
            "    0    0    0    0    0    0    0    0    0    0    0    0    0    0\n",
            "    0    0    0    0    0    0    0    0    0    0    0    0    0    0\n",
            "    0    0    0    0    0    0    0    0    0    0    0    0    0    0\n",
            "    0    0    0    0    0    0    0    0    0    0    0    0    0    0\n",
            "    0    0    0    0    0    0    0    0    0    0    0    0    0    0\n",
            "    0    0    0    0    0    0    0    0    0    0    0    0    0    0\n",
            "    0    0    0    0    0    0    0    0    0    0    0    0    0    0\n",
            "    0    0    0  405   53 1286  157  640  349  397  435 1111   84   34\n",
            "  284  317   71  580  303   82   16 1471   40   57 1679  446  270  294\n",
            "   84   19  302   41 1670 1810  798    5   24  834  251 1008  566 1023\n",
            "    1  321  628  223    8   36 1488  421   16   86 1014  579   35 1054\n",
            "  253    1    8 1679   96  434    8  446  272   60    1 1679  126  358\n",
            "  865  772 1272    1  258  503  292  159 1389 1827  585  161   41  443\n",
            "   43  982   60    2  196  131 1273  273  263  128    1  964  263 1506\n",
            "  257   34  671    1  217  151    1  348  621   14  293  822  412   51\n",
            "   85  794    1 1096    1   33   11  412    8  123  798   49   26  207\n",
            "  630  273    6    1  155  983  155 1242  983   60   57  278  194  155\n",
            "  983  177   26   15  177   26 1286  138  702   35    5    1  983 1159\n",
            "  569    2  162  139 1159   35  567   17  428  358 1575 1811 1520  147\n",
            "   34  184  943  505   95 1979  698   61   27   30   17    1    9  119\n",
            "  119  150  911 1643    2   43    1 1616  185  359  248   34  513   55\n",
            " 1693    1    1    1 1229    1   22 1076 1000  359    1  139  529  565\n",
            "   30   17  887  744 1000    1  110  390  185  203  272   64  107   17\n",
            "  151  261  140  150  207  758  481  130  342  345    1   56    1   16\n",
            "   38   17  660    2   84   34 1032  154 1302  795  384  253  916  834\n",
            "   85   24   86 1077   34   20  144  734 1133  424  523   42 1670   68\n",
            "   57   73  191    1  158  154  190  308   61  970  250  787  777   61\n",
            "  970   31  201  823  250    1  178  317   71 1872   71   81   54 1207\n",
            "  452 1112   35  250    1  817 1417   10    8  111  123 1243   18   70\n",
            "  123  849   10   24    5   71    1  313 1600  744    1 1190  581   91\n",
            "  428  552 1616   43   40   16  246   40 1457  862]\n"
          ]
        }
      ]
    },
    {
      "cell_type": "code",
      "metadata": {
        "colab": {
          "base_uri": "https://localhost:8080/"
        },
        "id": "o8RPb00YtGWq",
        "outputId": "b0d71443-4f6d-4195-b2e1-cad8207a4605"
      },
      "source": [
        "sequences_matrix.shape"
      ],
      "execution_count": null,
      "outputs": [
        {
          "output_type": "execute_result",
          "data": {
            "text/plain": [
              "(1642, 500)"
            ]
          },
          "metadata": {},
          "execution_count": 48
        }
      ]
    },
    {
      "cell_type": "code",
      "metadata": {
        "colab": {
          "base_uri": "https://localhost:8080/"
        },
        "id": "czhslWpWtJBJ",
        "outputId": "564fe9d5-57a6-4655-9ef0-18e01e623d13"
      },
      "source": [
        "from sklearn.model_selection import train_test_split\n",
        "\n",
        "X_train, X_test, Y_train, Y_test = train_test_split(sequences_matrix, y, test_size=0.2, random_state=42)\n",
        "print(\"Train size:\", X_train.shape)\n",
        "print(\"Test size:\", X_test.shape)"
      ],
      "execution_count": null,
      "outputs": [
        {
          "output_type": "stream",
          "name": "stdout",
          "text": [
            "Train size: (1313, 500)\n",
            "Test size: (329, 500)\n"
          ]
        }
      ]
    },
    {
      "cell_type": "markdown",
      "metadata": {
        "id": "t1jBihW6TOah"
      },
      "source": [
        "# word Embendings Model"
      ]
    },
    {
      "cell_type": "code",
      "metadata": {
        "id": "C2VrPTk9TMXs"
      },
      "source": [
        "from tensorflow.keras.layers import LSTM, Activation, Dense, Dropout, Input, Embedding\n",
        "from tensorflow.keras.models import Model\n",
        "from tensorflow.keras.optimizers import Adam, RMSprop, SGD\n",
        "from keras import regularizers\n",
        "def tensorflow_based_model(): \n",
        "    inputs = Input(name='inputs',shape=[max_len])\n",
        "    layer = Embedding(2000,50,input_length=max_len)(inputs) \n",
        "    layer = LSTM(32,kernel_regularizer=regularizers.l2(0.01))(layer) \n",
        "    layer = Dropout(0.75)(layer) \n",
        "    layer = Dense(1,name='out_layer',kernel_regularizer=regularizers.l2(0.01))(layer) \n",
        "    model = Model(inputs=inputs,outputs=layer) \n",
        "    return model\n",
        "model = tensorflow_based_model() \n",
        "model.compile(loss='binary_crossentropy',optimizer=Adam(learning_rate=0.0001, decay=1e-6),metrics=['accuracy'])  "
      ],
      "execution_count": null,
      "outputs": []
    },
    {
      "cell_type": "code",
      "metadata": {
        "id": "QSDzJsgXT9gZ"
      },
      "source": [
        "from keras.callbacks import EarlyStopping, ReduceLROnPlateau\n",
        "earlystop = EarlyStopping(monitor='val_loss', \n",
        "                          min_delta=0, \n",
        "                          patience=8, \n",
        "                          verbose=1, \n",
        "                          restore_best_weights=True)\n",
        "callbacks=[earlystop]"
      ],
      "execution_count": null,
      "outputs": []
    },
    {
      "cell_type": "code",
      "metadata": {
        "colab": {
          "base_uri": "https://localhost:8080/"
        },
        "id": "TurHBHE6Ters",
        "outputId": "cc7f6613-da03-452b-82dd-921c0e1035e5"
      },
      "source": [
        "model.summary()"
      ],
      "execution_count": null,
      "outputs": [
        {
          "output_type": "stream",
          "name": "stdout",
          "text": [
            "Model: \"model\"\n",
            "_________________________________________________________________\n",
            " Layer (type)                Output Shape              Param #   \n",
            "=================================================================\n",
            " inputs (InputLayer)         [(None, 500)]             0         \n",
            "                                                                 \n",
            " embedding (Embedding)       (None, 500, 50)           100000    \n",
            "                                                                 \n",
            " lstm (LSTM)                 (None, 32)                10624     \n",
            "                                                                 \n",
            " dropout (Dropout)           (None, 32)                0         \n",
            "                                                                 \n",
            " out_layer (Dense)           (None, 1)                 33        \n",
            "                                                                 \n",
            "=================================================================\n",
            "Total params: 110,657\n",
            "Trainable params: 110,657\n",
            "Non-trainable params: 0\n",
            "_________________________________________________________________\n"
          ]
        }
      ]
    },
    {
      "cell_type": "code",
      "metadata": {
        "colab": {
          "base_uri": "https://localhost:8080/"
        },
        "id": "MdMBlkOLT0k0",
        "outputId": "b47dc79d-0315-4698-8310-1cecc88535e4"
      },
      "source": [
        "history=model.fit(X_train,Y_train,batch_size=32,epochs=100,\n",
        "                  validation_data=(X_test,Y_test),\n",
        "                  callbacks=callbacks)"
      ],
      "execution_count": null,
      "outputs": [
        {
          "output_type": "stream",
          "name": "stdout",
          "text": [
            "Epoch 1/100\n",
            "42/42 [==============================] - 16s 241ms/step - loss: 4.7400 - accuracy: 0.5179 - val_loss: 3.0717 - val_accuracy: 0.5319\n",
            "Epoch 2/100\n",
            "42/42 [==============================] - 10s 250ms/step - loss: 3.4065 - accuracy: 0.5179 - val_loss: 2.3581 - val_accuracy: 0.5319\n",
            "Epoch 3/100\n",
            "42/42 [==============================] - 10s 233ms/step - loss: 2.7987 - accuracy: 0.5179 - val_loss: 2.2267 - val_accuracy: 0.5319\n",
            "Epoch 4/100\n",
            "42/42 [==============================] - 10s 235ms/step - loss: 2.5488 - accuracy: 0.5179 - val_loss: 2.1246 - val_accuracy: 0.5319\n",
            "Epoch 5/100\n",
            "42/42 [==============================] - 10s 230ms/step - loss: 2.3916 - accuracy: 0.5179 - val_loss: 2.0451 - val_accuracy: 0.5319\n",
            "Epoch 6/100\n",
            "42/42 [==============================] - 10s 232ms/step - loss: 2.2333 - accuracy: 0.5179 - val_loss: 1.9696 - val_accuracy: 0.5319\n",
            "Epoch 7/100\n",
            "42/42 [==============================] - 10s 228ms/step - loss: 2.1007 - accuracy: 0.5179 - val_loss: 1.9027 - val_accuracy: 0.5319\n",
            "Epoch 8/100\n",
            "42/42 [==============================] - 10s 231ms/step - loss: 2.0454 - accuracy: 0.5179 - val_loss: 1.8339 - val_accuracy: 0.5319\n",
            "Epoch 9/100\n",
            "42/42 [==============================] - 10s 229ms/step - loss: 1.9064 - accuracy: 0.5179 - val_loss: 1.7783 - val_accuracy: 0.5319\n",
            "Epoch 10/100\n",
            "42/42 [==============================] - 10s 227ms/step - loss: 1.8821 - accuracy: 0.5179 - val_loss: 1.7264 - val_accuracy: 0.5319\n",
            "Epoch 11/100\n",
            "42/42 [==============================] - 9s 225ms/step - loss: 1.8110 - accuracy: 0.5179 - val_loss: 1.6769 - val_accuracy: 0.5319\n",
            "Epoch 12/100\n",
            "42/42 [==============================] - 10s 225ms/step - loss: 1.7372 - accuracy: 0.5179 - val_loss: 1.6305 - val_accuracy: 0.5319\n",
            "Epoch 13/100\n",
            "42/42 [==============================] - 10s 233ms/step - loss: 1.6912 - accuracy: 0.5179 - val_loss: 1.5839 - val_accuracy: 0.5319\n",
            "Epoch 14/100\n",
            "42/42 [==============================] - 9s 226ms/step - loss: 1.6445 - accuracy: 0.5179 - val_loss: 1.5398 - val_accuracy: 0.5319\n",
            "Epoch 15/100\n",
            "42/42 [==============================] - 9s 225ms/step - loss: 1.6205 - accuracy: 0.5179 - val_loss: 1.4944 - val_accuracy: 0.5319\n",
            "Epoch 16/100\n",
            "42/42 [==============================] - 10s 228ms/step - loss: 1.5357 - accuracy: 0.5179 - val_loss: 1.4473 - val_accuracy: 0.5319\n",
            "Epoch 17/100\n",
            "42/42 [==============================] - 9s 227ms/step - loss: 1.4610 - accuracy: 0.5179 - val_loss: 1.4000 - val_accuracy: 0.5319\n",
            "Epoch 18/100\n",
            "42/42 [==============================] - 10s 226ms/step - loss: 1.4596 - accuracy: 0.5171 - val_loss: 1.3505 - val_accuracy: 0.5319\n",
            "Epoch 19/100\n",
            "42/42 [==============================] - 10s 228ms/step - loss: 1.3925 - accuracy: 0.5179 - val_loss: 1.3007 - val_accuracy: 0.5319\n",
            "Epoch 20/100\n",
            "42/42 [==============================] - 10s 235ms/step - loss: 1.3581 - accuracy: 0.5187 - val_loss: 1.2412 - val_accuracy: 0.5319\n",
            "Epoch 21/100\n",
            "42/42 [==============================] - 10s 232ms/step - loss: 1.2829 - accuracy: 0.5217 - val_loss: 1.1710 - val_accuracy: 0.5319\n",
            "Epoch 22/100\n",
            "42/42 [==============================] - 10s 228ms/step - loss: 1.1942 - accuracy: 0.5369 - val_loss: 1.0524 - val_accuracy: 0.5502\n",
            "Epoch 23/100\n",
            "42/42 [==============================] - 10s 230ms/step - loss: 1.3503 - accuracy: 0.6070 - val_loss: 0.9844 - val_accuracy: 0.5562\n",
            "Epoch 24/100\n",
            "42/42 [==============================] - 10s 227ms/step - loss: 1.0986 - accuracy: 0.5689 - val_loss: 1.0469 - val_accuracy: 0.5502\n",
            "Epoch 25/100\n",
            "42/42 [==============================] - 9s 226ms/step - loss: 1.0606 - accuracy: 0.5819 - val_loss: 0.9851 - val_accuracy: 0.5532\n",
            "Epoch 26/100\n",
            "42/42 [==============================] - 9s 225ms/step - loss: 1.1150 - accuracy: 0.6565 - val_loss: 2.7267 - val_accuracy: 0.7295\n",
            "Epoch 27/100\n",
            "42/42 [==============================] - 10s 227ms/step - loss: 1.9221 - accuracy: 0.6116 - val_loss: 1.0144 - val_accuracy: 0.5502\n",
            "Epoch 28/100\n",
            "42/42 [==============================] - 10s 228ms/step - loss: 1.0293 - accuracy: 0.5857 - val_loss: 0.9779 - val_accuracy: 0.5502\n",
            "Epoch 29/100\n",
            "42/42 [==============================] - 10s 228ms/step - loss: 1.0493 - accuracy: 0.6047 - val_loss: 0.9479 - val_accuracy: 0.6474\n",
            "Epoch 30/100\n",
            "42/42 [==============================] - 10s 232ms/step - loss: 1.4660 - accuracy: 0.6634 - val_loss: 0.9700 - val_accuracy: 0.5714\n",
            "Epoch 31/100\n",
            "42/42 [==============================] - 10s 231ms/step - loss: 0.9512 - accuracy: 0.6306 - val_loss: 0.9424 - val_accuracy: 0.6505\n",
            "Epoch 32/100\n",
            "42/42 [==============================] - 10s 232ms/step - loss: 0.9619 - accuracy: 0.6794 - val_loss: 0.9130 - val_accuracy: 0.6657\n",
            "Epoch 33/100\n",
            "42/42 [==============================] - 9s 224ms/step - loss: 0.9665 - accuracy: 0.7205 - val_loss: 0.8980 - val_accuracy: 0.6657\n",
            "Epoch 34/100\n",
            "42/42 [==============================] - 10s 229ms/step - loss: 0.8841 - accuracy: 0.7182 - val_loss: 0.8842 - val_accuracy: 0.6778\n",
            "Epoch 35/100\n",
            "42/42 [==============================] - 10s 227ms/step - loss: 0.9131 - accuracy: 0.6679 - val_loss: 0.9145 - val_accuracy: 0.5745\n",
            "Epoch 36/100\n",
            "42/42 [==============================] - 9s 225ms/step - loss: 0.8879 - accuracy: 0.6550 - val_loss: 0.8464 - val_accuracy: 0.6261\n",
            "Epoch 37/100\n",
            "42/42 [==============================] - 10s 229ms/step - loss: 0.8390 - accuracy: 0.7152 - val_loss: 0.8533 - val_accuracy: 0.7052\n",
            "Epoch 38/100\n",
            "42/42 [==============================] - 10s 228ms/step - loss: 0.8591 - accuracy: 0.7586 - val_loss: 0.8282 - val_accuracy: 0.7508\n",
            "Epoch 39/100\n",
            "42/42 [==============================] - 10s 230ms/step - loss: 0.8987 - accuracy: 0.7738 - val_loss: 0.9334 - val_accuracy: 0.7812\n",
            "Epoch 40/100\n",
            "42/42 [==============================] - 10s 231ms/step - loss: 0.8445 - accuracy: 0.7890 - val_loss: 0.8293 - val_accuracy: 0.7234\n",
            "Epoch 41/100\n",
            "42/42 [==============================] - 9s 223ms/step - loss: 0.7810 - accuracy: 0.7791 - val_loss: 0.7879 - val_accuracy: 0.7933\n",
            "Epoch 42/100\n",
            "42/42 [==============================] - 10s 228ms/step - loss: 0.8084 - accuracy: 0.7951 - val_loss: 0.8550 - val_accuracy: 0.8267\n",
            "Epoch 43/100\n",
            "42/42 [==============================] - 10s 232ms/step - loss: 0.9118 - accuracy: 0.8218 - val_loss: 0.8116 - val_accuracy: 0.8328\n",
            "Epoch 44/100\n",
            "42/42 [==============================] - 10s 230ms/step - loss: 0.7782 - accuracy: 0.8027 - val_loss: 0.7966 - val_accuracy: 0.6505\n",
            "Epoch 45/100\n",
            "42/42 [==============================] - 10s 231ms/step - loss: 0.8071 - accuracy: 0.6999 - val_loss: 0.7500 - val_accuracy: 0.7112\n",
            "Epoch 46/100\n",
            "42/42 [==============================] - 10s 230ms/step - loss: 0.7037 - accuracy: 0.7936 - val_loss: 0.7390 - val_accuracy: 0.8450\n",
            "Epoch 47/100\n",
            "42/42 [==============================] - 10s 230ms/step - loss: 0.7135 - accuracy: 0.8576 - val_loss: 0.7698 - val_accuracy: 0.8450\n",
            "Epoch 48/100\n",
            "42/42 [==============================] - 10s 231ms/step - loss: 0.7175 - accuracy: 0.8385 - val_loss: 0.8625 - val_accuracy: 0.8511\n",
            "Epoch 49/100\n",
            "42/42 [==============================] - 9s 226ms/step - loss: 0.6799 - accuracy: 0.8675 - val_loss: 0.7116 - val_accuracy: 0.8754\n",
            "Epoch 50/100\n",
            "42/42 [==============================] - 9s 225ms/step - loss: 0.6775 - accuracy: 0.8728 - val_loss: 0.7348 - val_accuracy: 0.8693\n",
            "Epoch 51/100\n",
            "42/42 [==============================] - 10s 228ms/step - loss: 0.6389 - accuracy: 0.8172 - val_loss: 0.6887 - val_accuracy: 0.8632\n",
            "Epoch 52/100\n",
            "42/42 [==============================] - 10s 228ms/step - loss: 0.6393 - accuracy: 0.8736 - val_loss: 0.6810 - val_accuracy: 0.8632\n",
            "Epoch 53/100\n",
            "42/42 [==============================] - 10s 241ms/step - loss: 0.6080 - accuracy: 0.8850 - val_loss: 0.6756 - val_accuracy: 0.8632\n",
            "Epoch 54/100\n",
            "42/42 [==============================] - 10s 229ms/step - loss: 0.5973 - accuracy: 0.8568 - val_loss: 0.6234 - val_accuracy: 0.8419\n",
            "Epoch 55/100\n",
            "42/42 [==============================] - 10s 227ms/step - loss: 0.5338 - accuracy: 0.8972 - val_loss: 0.8616 - val_accuracy: 0.8723\n",
            "Epoch 56/100\n",
            "42/42 [==============================] - 10s 230ms/step - loss: 0.5147 - accuracy: 0.9010 - val_loss: 0.8429 - val_accuracy: 0.8754\n",
            "Epoch 57/100\n",
            "42/42 [==============================] - 10s 227ms/step - loss: 0.5644 - accuracy: 0.9018 - val_loss: 0.9123 - val_accuracy: 0.8784\n",
            "Epoch 58/100\n",
            "42/42 [==============================] - 10s 230ms/step - loss: 0.5545 - accuracy: 0.9071 - val_loss: 0.7956 - val_accuracy: 0.8784\n",
            "Epoch 59/100\n",
            "42/42 [==============================] - 10s 228ms/step - loss: 0.4947 - accuracy: 0.9086 - val_loss: 0.6978 - val_accuracy: 0.8754\n",
            "Epoch 60/100\n",
            "42/42 [==============================] - 9s 225ms/step - loss: 0.5092 - accuracy: 0.9208 - val_loss: 0.9292 - val_accuracy: 0.8815\n",
            "Epoch 61/100\n",
            "42/42 [==============================] - 10s 228ms/step - loss: 0.5552 - accuracy: 0.8530 - val_loss: 0.5883 - val_accuracy: 0.8723\n",
            "Epoch 62/100\n",
            "42/42 [==============================] - 9s 226ms/step - loss: 0.4846 - accuracy: 0.9292 - val_loss: 0.7720 - val_accuracy: 0.8815\n",
            "Epoch 63/100\n",
            "42/42 [==============================] - 10s 228ms/step - loss: 0.4599 - accuracy: 0.9193 - val_loss: 0.8394 - val_accuracy: 0.8875\n",
            "Epoch 64/100\n",
            "42/42 [==============================] - 10s 229ms/step - loss: 0.4666 - accuracy: 0.9269 - val_loss: 0.9122 - val_accuracy: 0.8906\n",
            "Epoch 65/100\n",
            "42/42 [==============================] - 10s 231ms/step - loss: 0.4695 - accuracy: 0.9200 - val_loss: 0.9085 - val_accuracy: 0.8875\n",
            "Epoch 66/100\n",
            "42/42 [==============================] - 10s 227ms/step - loss: 0.4402 - accuracy: 0.9368 - val_loss: 0.9174 - val_accuracy: 0.8936\n",
            "Epoch 67/100\n",
            "42/42 [==============================] - 10s 228ms/step - loss: 0.4917 - accuracy: 0.9177 - val_loss: 0.6012 - val_accuracy: 0.8207\n",
            "Epoch 68/100\n",
            "42/42 [==============================] - 10s 227ms/step - loss: 0.4854 - accuracy: 0.8903 - val_loss: 0.8641 - val_accuracy: 0.8845\n",
            "Epoch 69/100\n",
            "42/42 [==============================] - ETA: 0s - loss: 0.5255 - accuracy: 0.8599Restoring model weights from the end of the best epoch: 61.\n",
            "42/42 [==============================] - 10s 229ms/step - loss: 0.5255 - accuracy: 0.8599 - val_loss: 0.7590 - val_accuracy: 0.6322\n",
            "Epoch 00069: early stopping\n"
          ]
        }
      ]
    },
    {
      "cell_type": "code",
      "metadata": {
        "colab": {
          "base_uri": "https://localhost:8080/",
          "height": 350
        },
        "id": "1DntJaL5UQgk",
        "outputId": "ff8328da-2703-4654-e9af-9754f864b581"
      },
      "source": [
        "import matplotlib.pyplot as plt\n",
        "\n",
        "plt.figure(figsize=(14,5))\n",
        "plt.subplot(1,2,2)\n",
        "plt.plot(history.history['accuracy'])\n",
        "plt.plot(history.history['val_accuracy'])\n",
        "plt.title('Model Accuracy')\n",
        "plt.xlabel('Epochs')\n",
        "plt.ylabel('Accuracy')\n",
        "plt.legend(['train', 'test'], loc='upper left')\n",
        "\n",
        "plt.subplot(1,2,1)\n",
        "plt.plot(history.history['loss'])\n",
        "plt.plot(history.history['val_loss'])\n",
        "plt.title('model Loss')\n",
        "plt.xlabel('Epochs')\n",
        "plt.ylabel('Loss')\n",
        "plt.legend(['train', 'test'], loc='upper left')\n",
        "plt.show()"
      ],
      "execution_count": null,
      "outputs": [
        {
          "output_type": "display_data",
          "data": {
            "image/png": "[encoded data removed]",
            "text/plain": [
              "<Figure size 1008x360 with 2 Axes>"
            ]
          },
          "metadata": {
            "needs_background": "light"
          }
        }
      ]
    },
    {
      "cell_type": "code",
      "metadata": {
        "colab": {
          "base_uri": "https://localhost:8080/",
          "height": 522
        },
        "id": "qE2jYe84UO-E",
        "outputId": "f3867b3e-4821-4403-87d5-a87c90c051f4"
      },
      "source": [
        "from sklearn.metrics import classification_report, confusion_matrix\n",
        "from mlxtend.plotting import plot_confusion_matrix\n",
        "target_names=['Fake News', 'Real News']\n",
        "accr1 = model.evaluate(X_test,Y_test) \n",
        "print('Test set\\n  Accuracy: {:0.2f}'.format(accr1[1]))\n",
        "y_pred1 = model.predict(X_test)\n",
        "y_pred = (y_pred1 > 0.5) \n",
        "print('\\n')\n",
        "print(\"confusion matrix\")\n",
        "print('\\n')\n",
        "CR=confusion_matrix(Y_test, y_pred)\n",
        "print(CR)\n",
        "print('\\n')\n",
        "fig, ax = plot_confusion_matrix(conf_mat=CR,\n",
        "                                colorbar=True,\n",
        "                                show_absolute=False,\n",
        "                                show_normed=True,\n",
        "                                class_names=target_names)\n",
        "plt.show()"
      ],
      "execution_count": null,
      "outputs": [
        {
          "output_type": "stream",
          "name": "stdout",
          "text": [
            "11/11 [==============================] - 1s 86ms/step - loss: 0.5883 - accuracy: 0.8723\n",
            "Test set\n",
            "  Accuracy: 0.87\n",
            "\n",
            "\n",
            "confusion matrix\n",
            "\n",
            "\n",
            "[[161  14]\n",
            " [ 28 126]]\n",
            "\n",
            "\n"
          ]
        },
        {
          "output_type": "display_data",
          "data": {
            "image/png": "[encoded data removed]",
            "text/plain": [
              "<Figure size 432x288 with 2 Axes>"
            ]
          },
          "metadata": {
            "needs_background": "light"
          }
        }
      ]
    },
    {
      "cell_type": "markdown",
      "metadata": {
        "id": "cS0IsnmqTEDV"
      },
      "source": [
        "# Word Embending Model Optimization"
      ]
    },
    {
      "cell_type": "code",
      "metadata": {
        "id": "WHm_oEz7tYKM"
      },
      "source": [
        "from tensorflow.keras.layers import LSTM, Activation, Dense, Dropout, Input, Embedding\n",
        "from tensorflow.keras.models import Model\n",
        "from keras import regularizers\n",
        "def tensorflow_based_model(): \n",
        "    inputs = Input(name='inputs',shape=[max_len])\n",
        "    layer = Embedding(2000,50,input_length=max_len)(inputs) \n",
        "    layer = LSTM(64,kernel_regularizer=regularizers.l2(0.01))(layer)\n",
        "    layer = Dropout(0.5)(layer)\n",
        "    layer = Dense(16,kernel_regularizer=regularizers.l2(0.01))(layer) \n",
        "    layer = Activation('relu')(layer)\n",
        "    layer = Dense(1,name='out_layer')(layer) \n",
        "    layer = Activation('sigmoid')(layer) \n",
        "    model = Model(inputs=inputs,outputs=layer) \n",
        "    return model"
      ],
      "execution_count": null,
      "outputs": []
    },
    {
      "cell_type": "code",
      "metadata": {
        "id": "2iLhV1e2T7ef"
      },
      "source": [
        "from tensorflow.keras.optimizers import Adam, RMSprop, SGD\n",
        "model = tensorflow_based_model() \n",
        "model.compile(loss='binary_crossentropy',optimizer=Adam(learning_rate=0.0001, decay=1e-6),metrics=['accuracy'])  "
      ],
      "execution_count": null,
      "outputs": []
    },
    {
      "cell_type": "code",
      "metadata": {
        "colab": {
          "base_uri": "https://localhost:8080/"
        },
        "id": "rEQDuU6htec9",
        "outputId": "7031bb1b-d0c2-4e2b-be51-6e2dafbfc461"
      },
      "source": [
        "model.summary()"
      ],
      "execution_count": null,
      "outputs": [
        {
          "output_type": "stream",
          "name": "stdout",
          "text": [
            "Model: \"model_1\"\n",
            "_________________________________________________________________\n",
            " Layer (type)                Output Shape              Param #   \n",
            "=================================================================\n",
            " inputs (InputLayer)         [(None, 500)]             0         \n",
            "                                                                 \n",
            " embedding_1 (Embedding)     (None, 500, 50)           100000    \n",
            "                                                                 \n",
            " lstm_1 (LSTM)               (None, 64)                29440     \n",
            "                                                                 \n",
            " dropout_1 (Dropout)         (None, 64)                0         \n",
            "                                                                 \n",
            " dense (Dense)               (None, 16)                1040      \n",
            "                                                                 \n",
            " activation (Activation)     (None, 16)                0         \n",
            "                                                                 \n",
            " out_layer (Dense)           (None, 1)                 17        \n",
            "                                                                 \n",
            " activation_1 (Activation)   (None, 1)                 0         \n",
            "                                                                 \n",
            "=================================================================\n",
            "Total params: 130,497\n",
            "Trainable params: 130,497\n",
            "Non-trainable params: 0\n",
            "_________________________________________________________________\n"
          ]
        }
      ]
    },
    {
      "cell_type": "code",
      "metadata": {
        "id": "fxW9rOcCGBx2"
      },
      "source": [
        "from keras.callbacks import EarlyStopping, ReduceLROnPlateau\n",
        "\n",
        "earlystop = EarlyStopping(monitor='val_loss', \n",
        "                          min_delta=0, \n",
        "                          patience=8, \n",
        "                          verbose=1, \n",
        "                          restore_best_weights=True)\n",
        "reduce_lr = ReduceLROnPlateau(monitor='val_loss', \n",
        "                              factor=0.2, \n",
        "                              patience=4, \n",
        "                              verbose=1, \n",
        "                              min_delta=0.0001)\n",
        "callbacks = [ earlystop,reduce_lr]"
      ],
      "execution_count": null,
      "outputs": []
    },
    {
      "cell_type": "code",
      "metadata": {
        "colab": {
          "base_uri": "https://localhost:8080/"
        },
        "id": "kkxuJfS80QaU",
        "outputId": "5310e68d-2f5e-4cd2-9450-aa2a16487954"
      },
      "source": [
        "history=model.fit(X_train,Y_train,batch_size=16,epochs=100,\n",
        "                  validation_data=(X_test,Y_test),\n",
        "                  callbacks=callbacks)"
      ],
      "execution_count": null,
      "outputs": [
        {
          "output_type": "stream",
          "name": "stdout",
          "text": [
            "Epoch 1/100\n",
            "83/83 [==============================] - 19s 201ms/step - loss: 1.7065 - accuracy: 0.6184 - val_loss: 1.6261 - val_accuracy: 0.6930 - lr: 1.0000e-04\n",
            "Epoch 2/100\n",
            "83/83 [==============================] - 17s 199ms/step - loss: 1.5556 - accuracy: 0.7441 - val_loss: 1.4868 - val_accuracy: 0.7599 - lr: 1.0000e-04\n",
            "Epoch 3/100\n",
            "83/83 [==============================] - 16s 198ms/step - loss: 1.4090 - accuracy: 0.7959 - val_loss: 1.3272 - val_accuracy: 0.6869 - lr: 1.0000e-04\n",
            "Epoch 4/100\n",
            "83/83 [==============================] - 16s 195ms/step - loss: 1.2465 - accuracy: 0.7768 - val_loss: 1.1920 - val_accuracy: 0.7872 - lr: 1.0000e-04\n",
            "Epoch 5/100\n",
            "83/83 [==============================] - 16s 195ms/step - loss: 1.0668 - accuracy: 0.8195 - val_loss: 1.0122 - val_accuracy: 0.8328 - lr: 1.0000e-04\n",
            "Epoch 6/100\n",
            "83/83 [==============================] - 16s 191ms/step - loss: 0.8827 - accuracy: 0.8675 - val_loss: 0.9038 - val_accuracy: 0.8328 - lr: 1.0000e-04\n",
            "Epoch 7/100\n",
            "83/83 [==============================] - 16s 197ms/step - loss: 0.7701 - accuracy: 0.8835 - val_loss: 0.7737 - val_accuracy: 0.8511 - lr: 1.0000e-04\n",
            "Epoch 8/100\n",
            "83/83 [==============================] - 16s 193ms/step - loss: 0.6682 - accuracy: 0.9208 - val_loss: 0.7175 - val_accuracy: 0.8571 - lr: 1.0000e-04\n",
            "Epoch 9/100\n",
            "83/83 [==============================] - 16s 194ms/step - loss: 0.5882 - accuracy: 0.9345 - val_loss: 0.6961 - val_accuracy: 0.8511 - lr: 1.0000e-04\n",
            "Epoch 10/100\n",
            "83/83 [==============================] - 17s 199ms/step - loss: 0.5234 - accuracy: 0.9452 - val_loss: 0.6547 - val_accuracy: 0.8602 - lr: 1.0000e-04\n",
            "Epoch 11/100\n",
            "83/83 [==============================] - 16s 198ms/step - loss: 0.5727 - accuracy: 0.9261 - val_loss: 1.4204 - val_accuracy: 0.6444 - lr: 1.0000e-04\n",
            "Epoch 12/100\n",
            "83/83 [==============================] - 17s 201ms/step - loss: 0.4853 - accuracy: 0.9528 - val_loss: 0.5957 - val_accuracy: 0.8632 - lr: 1.0000e-04\n",
            "Epoch 13/100\n",
            "83/83 [==============================] - 16s 194ms/step - loss: 0.4201 - accuracy: 0.9604 - val_loss: 0.5878 - val_accuracy: 0.8571 - lr: 1.0000e-04\n",
            "Epoch 14/100\n",
            "83/83 [==============================] - 16s 194ms/step - loss: 0.3771 - accuracy: 0.9634 - val_loss: 0.5683 - val_accuracy: 0.8663 - lr: 1.0000e-04\n",
            "Epoch 15/100\n",
            "83/83 [==============================] - 16s 192ms/step - loss: 0.5764 - accuracy: 0.8804 - val_loss: 0.6358 - val_accuracy: 0.8419 - lr: 1.0000e-04\n",
            "Epoch 16/100\n",
            "83/83 [==============================] - 16s 197ms/step - loss: 0.4315 - accuracy: 0.9474 - val_loss: 0.9320 - val_accuracy: 0.6322 - lr: 1.0000e-04\n",
            "Epoch 17/100\n",
            "83/83 [==============================] - 16s 192ms/step - loss: 0.3422 - accuracy: 0.9619 - val_loss: 0.4866 - val_accuracy: 0.8784 - lr: 1.0000e-04\n",
            "Epoch 18/100\n",
            "83/83 [==============================] - 16s 190ms/step - loss: 0.3162 - accuracy: 0.9680 - val_loss: 0.4700 - val_accuracy: 0.8875 - lr: 1.0000e-04\n",
            "Epoch 19/100\n",
            "83/83 [==============================] - 16s 188ms/step - loss: 0.4041 - accuracy: 0.9505 - val_loss: 0.5089 - val_accuracy: 0.8632 - lr: 1.0000e-04\n",
            "Epoch 20/100\n",
            "83/83 [==============================] - 16s 187ms/step - loss: 0.2804 - accuracy: 0.9749 - val_loss: 0.5101 - val_accuracy: 0.8663 - lr: 1.0000e-04\n",
            "Epoch 21/100\n",
            "83/83 [==============================] - 16s 189ms/step - loss: 0.2640 - accuracy: 0.9794 - val_loss: 0.4322 - val_accuracy: 0.8845 - lr: 1.0000e-04\n",
            "Epoch 22/100\n",
            "83/83 [==============================] - 16s 189ms/step - loss: 0.2343 - accuracy: 0.9855 - val_loss: 0.4476 - val_accuracy: 0.8784 - lr: 1.0000e-04\n",
            "Epoch 23/100\n",
            "83/83 [==============================] - 16s 189ms/step - loss: 0.2223 - accuracy: 0.9863 - val_loss: 0.4306 - val_accuracy: 0.8875 - lr: 1.0000e-04\n",
            "Epoch 24/100\n",
            "83/83 [==============================] - 15s 186ms/step - loss: 0.2116 - accuracy: 0.9886 - val_loss: 0.4207 - val_accuracy: 0.8845 - lr: 1.0000e-04\n",
            "Epoch 25/100\n",
            "83/83 [==============================] - 15s 186ms/step - loss: 0.2921 - accuracy: 0.9634 - val_loss: 1.7963 - val_accuracy: 0.5745 - lr: 1.0000e-04\n",
            "Epoch 26/100\n",
            "83/83 [==============================] - 16s 189ms/step - loss: 1.2914 - accuracy: 0.5621 - val_loss: 0.8319 - val_accuracy: 0.5897 - lr: 1.0000e-04\n",
            "Epoch 27/100\n",
            "83/83 [==============================] - 17s 204ms/step - loss: 0.5529 - accuracy: 0.7852 - val_loss: 0.5577 - val_accuracy: 0.8359 - lr: 1.0000e-04\n",
            "Epoch 28/100\n",
            "83/83 [==============================] - ETA: 0s - loss: 0.4165 - accuracy: 0.9117\n",
            "Epoch 00028: ReduceLROnPlateau reducing learning rate to 1.9999999494757503e-05.\n",
            "83/83 [==============================] - 16s 187ms/step - loss: 0.4165 - accuracy: 0.9117 - val_loss: 0.5443 - val_accuracy: 0.8298 - lr: 1.0000e-04\n",
            "Epoch 29/100\n",
            "83/83 [==============================] - 16s 189ms/step - loss: 0.3992 - accuracy: 0.9132 - val_loss: 0.5376 - val_accuracy: 0.8359 - lr: 2.0000e-05\n",
            "Epoch 30/100\n",
            "83/83 [==============================] - 16s 187ms/step - loss: 0.3906 - accuracy: 0.9193 - val_loss: 0.5383 - val_accuracy: 0.8328 - lr: 2.0000e-05\n",
            "Epoch 31/100\n",
            "83/83 [==============================] - 16s 190ms/step - loss: 0.3838 - accuracy: 0.9177 - val_loss: 0.5359 - val_accuracy: 0.8359 - lr: 2.0000e-05\n",
            "Epoch 32/100\n",
            "83/83 [==============================] - ETA: 0s - loss: 0.3816 - accuracy: 0.9193Restoring model weights from the end of the best epoch: 24.\n",
            "\n",
            "Epoch 00032: ReduceLROnPlateau reducing learning rate to 3.999999898951501e-06.\n",
            "83/83 [==============================] - 16s 187ms/step - loss: 0.3816 - accuracy: 0.9193 - val_loss: 0.5344 - val_accuracy: 0.8359 - lr: 2.0000e-05\n",
            "Epoch 00032: early stopping\n"
          ]
        }
      ]
    },
    {
      "cell_type": "code",
      "metadata": {
        "colab": {
          "base_uri": "https://localhost:8080/",
          "height": 350
        },
        "id": "kj0q11KLtvWO",
        "outputId": "29be3053-b451-4615-8c3a-361016dce590"
      },
      "source": [
        "import matplotlib.pyplot as plt\n",
        "\n",
        "plt.figure(figsize=(14,5))\n",
        "plt.subplot(1,2,2)\n",
        "plt.plot(history.history['accuracy'])\n",
        "plt.plot(history.history['val_accuracy'])\n",
        "plt.title('Model Accuracy')\n",
        "plt.xlabel('Epochs')\n",
        "plt.ylabel('Accuracy')\n",
        "plt.legend(['train', 'test'], loc='upper left')\n",
        "\n",
        "plt.subplot(1,2,1)\n",
        "plt.plot(history.history['loss'])\n",
        "plt.plot(history.history['val_loss'])\n",
        "plt.title('model Loss')\n",
        "plt.xlabel('Epochs')\n",
        "plt.ylabel('Loss')\n",
        "plt.legend(['train', 'test'], loc='upper left')\n",
        "plt.show()"
      ],
      "execution_count": null,
      "outputs": [
        {
          "output_type": "display_data",
          "data": {
            "image/png": "[encoded data removed]",
            "text/plain": [
              "<Figure size 1008x360 with 2 Axes>"
            ]
          },
          "metadata": {
            "needs_background": "light"
          }
        }
      ]
    },
    {
      "cell_type": "code",
      "metadata": {
        "colab": {
          "base_uri": "https://localhost:8080/",
          "height": 523
        },
        "id": "KIy8O7T-t0P9",
        "outputId": "8367ff98-6caa-42c5-8271-c56920111d2e"
      },
      "source": [
        "from sklearn.metrics import classification_report, confusion_matrix\n",
        "from mlxtend.plotting import plot_confusion_matrix\n",
        "target_names=['Fake News', 'Real News']\n",
        "accr1 = model.evaluate(X_test,Y_test) \n",
        "print('Test set\\n  Accuracy: {:0.2f}'.format(accr1[1]))\n",
        "y_pred1 = model.predict(X_test)\n",
        "y_pred = (y_pred1 > 0.5) \n",
        "print('\\n')\n",
        "print(\"confusion matrix\")\n",
        "print('\\n')\n",
        "CR=confusion_matrix(Y_test, y_pred)\n",
        "print(CR)\n",
        "print('\\n')\n",
        "fig, ax = plot_confusion_matrix(conf_mat=CR,\n",
        "                                colorbar=True,\n",
        "                                show_absolute=False,\n",
        "                                show_normed=True,\n",
        "                                class_names=target_names)\n",
        "plt.show()"
      ],
      "execution_count": null,
      "outputs": [
        {
          "output_type": "stream",
          "name": "stdout",
          "text": [
            "11/11 [==============================] - 1s 80ms/step - loss: 0.4207 - accuracy: 0.8845\n",
            "Test set\n",
            "  Accuracy: 0.88\n",
            "\n",
            "\n",
            "confusion matrix\n",
            "\n",
            "\n",
            "[[159  16]\n",
            " [ 22 132]]\n",
            "\n",
            "\n"
          ]
        },
        {
          "output_type": "display_data",
          "data": {
            "image/png": "[encoded data removed]",
            "text/plain": [
              "<Figure size 432x288 with 2 Axes>"
            ]
          },
          "metadata": {
            "needs_background": "light"
          }
        }
      ]
    },
    {
      "cell_type": "code",
      "metadata": {
        "id": "N_zjWZEkt_n-"
      },
      "source": [
        "model.save('/content/drive/MyDrive/Projects/models/words_embendings.h5')"
      ],
      "execution_count": null,
      "outputs": []
    },
    {
      "cell_type": "markdown",
      "metadata": {
        "id": "y2XxioJHXGV5"
      },
      "source": [
        "# T-SNE\n",
        "Top five common words associated with thee most common fake news title"
      ]
    },
    {
      "cell_type": "code",
      "metadata": {
        "id": "h9fTT4TofKlF"
      },
      "source": [
        "indexNames = df[df['label'] == 1].index\n",
        "df.drop(indexNames , inplace=True)"
      ],
      "execution_count": null,
      "outputs": []
    },
    {
      "cell_type": "code",
      "metadata": {
        "id": "PjX7rtaqhZb1"
      },
      "source": [
        "df=df.reset_index(drop=True)"
      ],
      "execution_count": null,
      "outputs": []
    },
    {
      "cell_type": "code",
      "metadata": {
        "colab": {
          "base_uri": "https://localhost:8080/"
        },
        "id": "Co9fZk6eZ5L1",
        "outputId": "f07135fa-ba75-425e-fadb-69be518e3cf1"
      },
      "source": [
        "df['title']"
      ],
      "execution_count": null,
      "outputs": [
        {
          "output_type": "execute_result",
          "data": {
            "text/plain": [
              "0      FLYNN: Hillary Clinton, Big Woman on Campus - ...\n",
              "1      Jackie Mason: Hollywood Would Love Trump if He...\n",
              "2      BenoÃ®t Hamon Wins French Socialist Partyâs ...\n",
              "3      Excerpts From a Draft Script for Donald Trumpâ...\n",
              "4      A Back-Channel Plan for Ukraine and Russia, Co...\n",
              "                             ...                        \n",
              "850    Mike Allen, Politicoâs Newsletter Pioneer, I...\n",
              "851    Police: Gang of 5 Arrested for Murders of 2 Co...\n",
              "852    Islamic State Teen Jailed For Attacking Jewish...\n",
              "853    Bernie Sanders Meets With Pope Francis - The N...\n",
              "854    Comey Crawl: D.C. Bars Plan Testimony Drink Sp...\n",
              "Name: title, Length: 855, dtype: object"
            ]
          },
          "metadata": {},
          "execution_count": 69
        }
      ]
    },
    {
      "cell_type": "code",
      "metadata": {
        "id": "iF8aZsxKYlnW"
      },
      "source": [
        "import re\n",
        "def build_corpus(data):\n",
        "    corpus = []\n",
        "    for col in data:\n",
        "        word_list = col.split(\" \")\n",
        "        # print(word_list)\n",
        "        for index in range(len(word_list)):\n",
        "          words=word_list[index]\n",
        "          regex = re.compile('[^a-zA-Z]')\n",
        "          word=regex.sub('', words)\n",
        "          word_list[index]=word.lower()\n",
        "        word_list = list(filter(None, word_list))\n",
        "        corpus.append(word_list)\n",
        "\n",
        "            \n",
        "    return corpus\n",
        "\n",
        "corpus = build_corpus(df['title'])        "
      ],
      "execution_count": null,
      "outputs": []
    },
    {
      "cell_type": "code",
      "metadata": {
        "colab": {
          "base_uri": "https://localhost:8080/"
        },
        "id": "ydoIxd6XXJyp",
        "outputId": "48e6de2f-7cf2-47b4-d884-0db42b0dea6f"
      },
      "source": [
        "from gensim.models import Word2Vec\n",
        "model = Word2Vec(corpus,  min_count=0,size= 20,workers=3, window =3, sg = 1)\n",
        "print(model)"
      ],
      "execution_count": null,
      "outputs": [
        {
          "output_type": "stream",
          "name": "stdout",
          "text": [
            "Word2Vec(vocab=3021, size=20, alpha=0.025)\n"
          ]
        }
      ]
    },
    {
      "cell_type": "code",
      "metadata": {
        "id": "VGQx3EyDXbX1"
      },
      "source": [
        "model.save('/content/drive/MyDrive/Projects/models/Word2Vec.model')\n",
        "model.save('/content/drive/MyDrive/Projects/models/Word2Vec.bin')"
      ],
      "execution_count": null,
      "outputs": []
    },
    {
      "cell_type": "code",
      "metadata": {
        "colab": {
          "base_uri": "https://localhost:8080/"
        },
        "id": "jSf3p8tXXqpP",
        "outputId": "cb0dceb0-431e-4344-ef87-95aec2fa217a"
      },
      "source": [
        "model.most_similar(positive=['trump'])#, topn = 5)"
      ],
      "execution_count": null,
      "outputs": [
        {
          "output_type": "stream",
          "name": "stderr",
          "text": [
            "/usr/local/lib/python3.7/dist-packages/ipykernel_launcher.py:1: DeprecationWarning: Call to deprecated `most_similar` (Method will be removed in 4.0.0, use self.wv.most_similar() instead).\n",
            "  \"\"\"Entry point for launching an IPython kernel.\n"
          ]
        },
        {
          "output_type": "execute_result",
          "data": {
            "text/plain": [
              "[('a', 0.9984596371650696),\n",
              " ('on', 0.9980091452598572),\n",
              " ('trumps', 0.9978289604187012),\n",
              " ('is', 0.9977848529815674),\n",
              " ('us', 0.997636079788208),\n",
              " ('of', 0.9976303577423096),\n",
              " ('not', 0.9973540902137756),\n",
              " ('to', 0.9973369836807251),\n",
              " ('and', 0.9971797466278076),\n",
              " ('in', 0.9970892667770386)]"
            ]
          },
          "metadata": {},
          "execution_count": 74
        }
      ]
    },
    {
      "cell_type": "code",
      "metadata": {
        "colab": {
          "base_uri": "https://localhost:8080/"
        },
        "id": "ev4qILK4niAI",
        "outputId": "1736d474-9f3d-4c05-83b2-9b0f157f8070"
      },
      "source": [
        "from nltk.probability import FreqDist\n",
        "term_fd = FreqDist(df['title'])\n",
        "com_title=term_fd.most_common(3)\n",
        "com_title"
      ],
      "execution_count": null,
      "outputs": [
        {
          "output_type": "execute_result",
          "data": {
            "text/plain": [
              "[('Pregnancy Changes the Brain in Ways That May Help Mothering - The New York Times',\n",
              "  2),\n",
              " ('Scarborough: Trump Poops His Pants, Calls It â\\x80\\x99Modern Artâ\\x80\\x99 - Breitbart',\n",
              "  2),\n",
              " ('When Cooking, Invest Time. Or Work. Not Both. - The New York Times', 2)]"
            ]
          },
          "metadata": {},
          "execution_count": 75
        }
      ]
    },
    {
      "cell_type": "code",
      "metadata": {
        "colab": {
          "base_uri": "https://localhost:8080/"
        },
        "id": "17hzX3alp0n-",
        "outputId": "4a0b0bf6-4b01-49aa-b279-52fba3b235a9"
      },
      "source": [
        "regex = re.compile('[^a-zA-Z]')\n",
        "words_list=[]\n",
        "for title in com_title:\n",
        "  title=title[0].split(\" \")\n",
        "  for index in range(len(title)):\n",
        "    words=title[index]\n",
        "    regex = re.compile('[^a-zA-Z]')\n",
        "    word=regex.sub('', words)\n",
        "    title[index]=word.lower()\n",
        "  title = list(filter(None, title))\n",
        "  words_list.extend(title)\n",
        "print(words_list)"
      ],
      "execution_count": null,
      "outputs": [
        {
          "output_type": "stream",
          "name": "stdout",
          "text": [
            "['pregnancy', 'changes', 'the', 'brain', 'in', 'ways', 'that', 'may', 'help', 'mothering', 'the', 'new', 'york', 'times', 'scarborough', 'trump', 'poops', 'his', 'pants', 'calls', 'it', 'modern', 'art', 'breitbart', 'when', 'cooking', 'invest', 'time', 'or', 'work', 'not', 'both', 'the', 'new', 'york', 'times']\n"
          ]
        }
      ]
    },
    {
      "cell_type": "code",
      "metadata": {
        "id": "6ahaj8u5qlqX",
        "colab": {
          "base_uri": "https://localhost:8080/"
        },
        "outputId": "393b2c32-9615-41cb-d39c-25e2dbab54d4"
      },
      "source": [
        "most_sim_words=[]\n",
        "for word in words_list:\n",
        "  most_sim_words.extend(model.most_similar(positive=[word]))"
      ],
      "execution_count": null,
      "outputs": [
        {
          "output_type": "stream",
          "name": "stderr",
          "text": [
            "/usr/local/lib/python3.7/dist-packages/ipykernel_launcher.py:3: DeprecationWarning: Call to deprecated `most_similar` (Method will be removed in 4.0.0, use self.wv.most_similar() instead).\n",
            "  This is separate from the ipykernel package so we can avoid doing imports until\n"
          ]
        }
      ]
    },
    {
      "cell_type": "code",
      "metadata": {
        "colab": {
          "base_uri": "https://localhost:8080/"
        },
        "id": "uPFPiQkZtalD",
        "outputId": "59b43adb-48a6-4690-9b43-e2e9424894d7"
      },
      "source": [
        "print(most_sim_words)"
      ],
      "execution_count": null,
      "outputs": [
        {
          "output_type": "stream",
          "name": "stdout",
          "text": [
            "[('ryancare', 0.9057592153549194), ('catches', 0.8881143927574158), ('rodrigo', 0.880683422088623), ('our', 0.8760201334953308), ('wrestled', 0.8748348951339722), ('stop', 0.8743108510971069), ('shkreli', 0.8718591332435608), ('miss', 0.8713406324386597), ('firm', 0.8705377578735352), ('wimps', 0.8693000674247742), ('toddlers', 0.9330358505249023), ('keep', 0.9322726130485535), ('deliberate', 0.9302788376808167), ('including', 0.9298975467681885), ('wire', 0.9252595901489258), ('weary', 0.9247998595237732), ('corridor', 0.9209522604942322), ('clean', 0.9203680753707886), ('isiscribbed', 0.9194338321685791), ('division', 0.9193900227546692), ('open', 0.9846866726875305), ('baseball', 0.9842575788497925), ('windy', 0.9818552732467651), ('seattle', 0.9816489219665527), ('back', 0.9814990758895874), ('by', 0.9814740419387817), ('for', 0.9812405109405518), ('york', 0.9812142252922058), ('new', 0.9811786413192749), ('us', 0.9809197187423706), ('obamaera', 0.9751917123794556), ('has', 0.9739009141921997), ('apple', 0.9713948369026184), ('questions', 0.9712052345275879), ('winning', 0.9709658026695251), ('isis', 0.9691585302352905), ('new', 0.9691559672355652), ('they', 0.9691224694252014), ('avoid', 0.9690302014350891), ('who', 0.9689432382583618), ('trumps', 0.9988275766372681), ('breitbart', 0.9988078474998474), ('and', 0.9987640380859375), ('a', 0.9984734058380127), ('of', 0.9984133243560791), ('it', 0.9983892440795898), ('that', 0.998149037361145), ('on', 0.998084545135498), ('for', 0.9980750679969788), ('are', 0.9980182647705078), ('pay', 0.9746764898300171), ('robbery', 0.9705106616020203), ('running', 0.9694157242774963), ('retrial', 0.9692243337631226), ('berkeley', 0.9691900610923767), ('sign', 0.9682469367980957), ('if', 0.9676318764686584), ('think', 0.9666783213615417), ('daily', 0.9665720462799072), ('last', 0.9662330746650696), ('in', 0.9981491565704346), ('and', 0.9980850219726562), ('your', 0.9974516034126282), ('by', 0.9973521828651428), ('for', 0.997085452079773), ('trumps', 0.9970733523368835), ('be', 0.9970182180404663), ('to', 0.9970099329948425), ('a', 0.9969034790992737), ('it', 0.9967163801193237), ('as', 0.9972004890441895), ('all', 0.9970180988311768), ('for', 0.9966960549354553), ('a', 0.99616539478302), ('will', 0.9961379766464233), ('and', 0.9960336685180664), ('an', 0.996021032333374), ('trumps', 0.9958945512771606), ('in', 0.9956032037734985), ('it', 0.9952424764633179), ('just', 0.9842790961265564), ('cost', 0.9817777276039124), ('than', 0.9816645979881287), ('it', 0.9812134504318237), ('america', 0.9806342720985413), ('run', 0.9805589318275452), ('supporters', 0.979810357093811), ('how', 0.9794645309448242), ('after', 0.9790098667144775), ('breitbart', 0.9783620834350586), ('amp', 0.901157021522522), ('mcfarland', 0.89732825756073), ('defies', 0.8965541124343872), ('mann', 0.8912420868873596), ('funding', 0.8867200613021851), ('brantley', 0.8837324976921082), ('board', 0.8830529451370239), ('decision', 0.8829583525657654), ('israel', 0.8780982494354248), ('groups', 0.8769931197166443), ('open', 0.9846866726875305), ('baseball', 0.9842575788497925), ('windy', 0.9818552732467651), ('seattle', 0.9816489219665527), ('back', 0.9814990758895874), ('by', 0.9814740419387817), ('for', 0.9812405109405518), ('york', 0.9812142252922058), ('new', 0.9811786413192749), ('us', 0.9809197187423706), ('look', 0.9867026805877686), ('bill', 0.9860376715660095), ('hails', 0.9839683771133423), ('attack', 0.9820752143859863), ('of', 0.9819460511207581), ('and', 0.9816036224365234), ('your', 0.9814056754112244), ('the', 0.9811786413192749), ('claims', 0.9809941649436951), ('for', 0.9808882474899292), ('for', 0.9860708117485046), ('indias', 0.9857495427131653), ('times', 0.9855296611785889), ('all', 0.9849814176559448), ('law', 0.9846540689468384), ('in', 0.9845495223999023), ('that', 0.9838497042655945), ('accused', 0.983575165271759), ('by', 0.9835433959960938), ('are', 0.9833152890205383), ('claims', 0.9890695214271545), ('dies', 0.9889519810676575), ('that', 0.9873971939086914), ('and', 0.9872851967811584), ('your', 0.9872358441352844), ('best', 0.986821174621582), ('says', 0.98647141456604), ('health', 0.986035943031311), ('york', 0.9855296611785889), ('exclusive', 0.9854736328125), ('defrauding', 0.8847057819366455), ('bullies', 0.8339830040931702), ('features', 0.8272279500961304), ('de', 0.8128697872161865), ('designing', 0.8056663870811462), ('jailed', 0.8049511909484863), ('mccain', 0.7993717193603516), ('software', 0.7973834276199341), ('ovary', 0.7963784337043762), ('credit', 0.7952793836593628), ('a', 0.9984596371650696), ('on', 0.9980091452598572), ('trumps', 0.9978289604187012), ('is', 0.9977848529815674), ('us', 0.997636079788208), ('of', 0.9976303577423096), ('not', 0.9973540902137756), ('to', 0.9973369836807251), ('and', 0.9971797466278076), ('in', 0.9970892667770386), ('cries', 0.9450565576553345), ('supporter', 0.9435404539108276), ('nomination', 0.9420530796051025), ('seal', 0.9416006803512573), ('appear', 0.9373606443405151), ('food', 0.936278223991394), ('targets', 0.9317106008529663), ('blasts', 0.9312808513641357), ('california', 0.9312592148780823), ('vote', 0.9310917854309082), ('terror', 0.9980754852294922), ('not', 0.9976319670677185), ('and', 0.9974474906921387), ('on', 0.9974290132522583), ('in', 0.9971513748168945), ('to', 0.9970998764038086), ('a', 0.9970774054527283), ('for', 0.9970290660858154), ('as', 0.9968852996826172), ('is', 0.9968798756599426), ('think', 0.9813520312309265), ('campaign', 0.9757248163223267), ('county', 0.9744850397109985), ('president', 0.9743837714195251), ('would', 0.9738831520080566), ('found', 0.972866952419281), ('tension', 0.9715758562088013), ('build', 0.9704257845878601), ('has', 0.9701572060585022), ('fix', 0.9700959324836731), ('down', 0.9962583780288696), ('one', 0.9955391883850098), ('after', 0.995477557182312), ('antitrump', 0.9950970411300659), ('and', 0.9948331713676453), ('a', 0.9948253631591797), ('an', 0.9946075677871704), ('be', 0.9945659637451172), ('what', 0.994491457939148), ('of', 0.9944154024124146), ('are', 0.9989033341407776), ('breitbart', 0.9987797737121582), ('in', 0.9983893036842346), ('as', 0.9977155923843384), ('to', 0.9975336790084839), ('a', 0.9974410533905029), ('what', 0.997277021408081), ('and', 0.9972633123397827), ('trumps', 0.997226357460022), ('after', 0.9972105622291565), ('price', 0.9702673554420471), ('run', 0.9684991836547852), ('begins', 0.9652674198150635), ('senior', 0.9631178975105286), ('undermine', 0.962756872177124), ('abortion', 0.9608519077301025), ('davos', 0.9586434364318848), ('russia', 0.9578562378883362), ('gold', 0.957561194896698), ('war', 0.9574846029281616), ('murder', 0.9870219230651855), ('but', 0.9864209890365601), ('on', 0.9858322739601135), ('in', 0.98504638671875), ('how', 0.985037088394165), ('plan', 0.984978199005127), ('dies', 0.9847278594970703), ('washington', 0.9845069646835327), ('and', 0.9844961762428284), ('that', 0.9839928150177002), ('in', 0.9988079071044922), ('it', 0.9987797737121582), ('what', 0.9983317255973816), ('a', 0.9982131719589233), ('are', 0.9978548288345337), ('trumps', 0.9977129697799683), ('and', 0.997437596321106), ('have', 0.9974096417427063), ('by', 0.9974031448364258), ('after', 0.9973732233047485), ('his', 0.9918397665023804), ('not', 0.9904208779335022), ('washington', 0.9902602434158325), ('plan', 0.9898516535758972), ('brexit', 0.9890602231025696), ('and', 0.9888631105422974), ('they', 0.9882495403289795), ('south', 0.9878513813018799), ('last', 0.9878198504447937), ('off', 0.9877769947052002), ('level', 0.9604018926620483), ('senators', 0.9477850794792175), ('party', 0.9455801248550415), ('gold', 0.9454079270362854), ('major', 0.9450675249099731), ('internet', 0.9444174766540527), ('judge', 0.9442211389541626), ('ends', 0.9433104395866394), ('show', 0.9413363337516785), ('alien', 0.941039502620697), ('suspects', 0.9644312858581543), ('joe', 0.9633731842041016), ('moment', 0.9593335390090942), ('college', 0.9584736227989197), ('blue', 0.9574004411697388), ('facebook', 0.9571700096130371), ('super', 0.9567368626594543), ('masked', 0.9554166793823242), ('comey', 0.9551138877868652), ('suspended', 0.9550830125808716), ('plan', 0.9908427596092224), ('may', 0.9896345138549805), ('can', 0.9891378283500671), ('for', 0.9888933897018433), ('bill', 0.9887687563896179), ('words', 0.9887208342552185), ('as', 0.988678514957428), ('with', 0.9886578321456909), ('cash', 0.9886051416397095), ('an', 0.9872298240661621), ('gorsuch', 0.9873692393302917), ('by', 0.9865715503692627), ('national', 0.9857943654060364), ('from', 0.9855540990829468), ('an', 0.9854111671447754), ('but', 0.9848560094833374), ('how', 0.9846104383468628), ('us', 0.98443204164505), ('dc', 0.9842689037322998), ('he', 0.9841107130050659), ('it', 0.9944912195205688), ('your', 0.9943732619285583), ('and', 0.9940423369407654), ('on', 0.9932971000671387), ('to', 0.9931855797767639), ('in', 0.9931473731994629), ('of', 0.9931464195251465), ('for', 0.993128776550293), ('are', 0.9931284189224243), ('news', 0.9930194020271301), ('to', 0.9986607432365417), ('is', 0.998632550239563), ('police', 0.9984805583953857), ('and', 0.9982419013977051), ('as', 0.9979238510131836), ('from', 0.9978413581848145), ('of', 0.9977493286132812), ('on', 0.9977424144744873), ('says', 0.9977341890335083), ('us', 0.9976812601089478), ('should', 0.9940452575683594), ('is', 0.9938239455223083), ('says', 0.993505597114563), ('bill', 0.9933778643608093), ('after', 0.9933423399925232), ('plan', 0.9928545355796814), ('speech', 0.9926406741142273), ('us', 0.9925388097763062), ('not', 0.9922102689743042), ('with', 0.9921608567237854), ('open', 0.9846866726875305), ('baseball', 0.9842575788497925), ('windy', 0.9818552732467651), ('seattle', 0.9816489219665527), ('back', 0.9814990758895874), ('by', 0.9814740419387817), ('for', 0.9812405109405518), ('york', 0.9812142252922058), ('new', 0.9811786413192749), ('us', 0.9809197187423706), ('look', 0.9867026805877686), ('bill', 0.9860376715660095), ('hails', 0.9839683771133423), ('attack', 0.9820752143859863), ('of', 0.9819460511207581), ('and', 0.9816036224365234), ('your', 0.9814056754112244), ('the', 0.9811786413192749), ('claims', 0.9809941649436951), ('for', 0.9808882474899292), ('for', 0.9860708117485046), ('indias', 0.9857495427131653), ('times', 0.9855296611785889), ('all', 0.9849814176559448), ('law', 0.9846540689468384), ('in', 0.9845495223999023), ('that', 0.9838497042655945), ('accused', 0.983575165271759), ('by', 0.9835433959960938), ('are', 0.9833152890205383), ('claims', 0.9890695214271545), ('dies', 0.9889519810676575), ('that', 0.9873971939086914), ('and', 0.9872851967811584), ('your', 0.9872358441352844), ('best', 0.986821174621582), ('says', 0.98647141456604), ('health', 0.986035943031311), ('york', 0.9855296611785889), ('exclusive', 0.9854736328125)]\n"
          ]
        }
      ]
    },
    {
      "cell_type": "code",
      "metadata": {
        "colab": {
          "base_uri": "https://localhost:8080/"
        },
        "id": "MwThcSPxtk8w",
        "outputId": "8363db1a-8322-4f34-86e2-fa71f87d4c8b"
      },
      "source": [
        "most_sim_words=list(dict.fromkeys(most_sim_words))\n",
        "most_sim_words=sorted(most_sim_words ,key=lambda most_sim_words: most_sim_words[1],reverse=True)\n",
        "most_sim_words[:5]"
      ],
      "execution_count": null,
      "outputs": [
        {
          "output_type": "execute_result",
          "data": {
            "text/plain": [
              "[('are', 0.9989033341407776),\n",
              " ('trumps', 0.9988275766372681),\n",
              " ('in', 0.9988079071044922),\n",
              " ('breitbart', 0.9988078474998474),\n",
              " ('breitbart', 0.9987797737121582)]"
            ]
          },
          "metadata": {},
          "execution_count": 80
        }
      ]
    },
    {
      "cell_type": "code",
      "metadata": {
        "id": "9fUeyAVItomr"
      },
      "source": [
        "from sklearn.manifold import TSNE\n",
        "import matplotlib.pyplot as plt\n",
        "%matplotlib inline\n",
        "def tsne_plot(model, lists_words):\n",
        "    labels = []\n",
        "    tokens = []\n",
        "    \n",
        "\n",
        "    for word in lists_words:\n",
        "        word=word[0]\n",
        "        tokens.append(model[word])\n",
        "        labels.append(word)\n",
        "    \n",
        "    tsne_model = TSNE(perplexity=40, n_components=2, init='pca', n_iter=2500, random_state=23)\n",
        "    new_values = tsne_model.fit_transform(tokens)\n",
        "\n",
        "    x = []\n",
        "    y = []\n",
        "    for value in new_values:\n",
        "        x.append(value[0])\n",
        "        y.append(value[1])\n",
        "        \n",
        "    plt.figure()\n",
        "    for i in range(len(x)):\n",
        "        plt.scatter(x[i],y[i])\n",
        "        plt.annotate(labels[i],\n",
        "                     xy=(x[i], y[i]),\n",
        "                     xytext=(5, 2),\n",
        "                     textcoords='offset points',\n",
        "                     ha='right',\n",
        "                     va='bottom')\n",
        "    plt.show()"
      ],
      "execution_count": null,
      "outputs": []
    },
    {
      "cell_type": "code",
      "metadata": {
        "colab": {
          "base_uri": "https://localhost:8080/",
          "height": 391
        },
        "id": "kUGP6C6SvnF9",
        "outputId": "8f07a379-7d3a-45a4-b1af-4f80e0df6ac1"
      },
      "source": [
        "# Top five common words associated with thee most common fake news title\n",
        "tsne_plot(model,most_sim_words[:5])"
      ],
      "execution_count": null,
      "outputs": [
        {
          "output_type": "stream",
          "name": "stderr",
          "text": [
            "/usr/local/lib/python3.7/dist-packages/ipykernel_launcher.py:11: DeprecationWarning: Call to deprecated `__getitem__` (Method will be removed in 4.0.0, use self.wv.__getitem__() instead).\n",
            "  # This is added back by InteractiveShellApp.init_path()\n",
            "/usr/local/lib/python3.7/dist-packages/sklearn/manifold/_t_sne.py:793: FutureWarning: The default learning rate in TSNE will change from 200.0 to 'auto' in 1.2.\n",
            "  FutureWarning,\n",
            "/usr/local/lib/python3.7/dist-packages/sklearn/manifold/_t_sne.py:986: FutureWarning: The PCA initialization in TSNE will change to have the standard deviation of PC1 equal to 1e-4 in 1.2. This will ensure better convergence.\n",
            "  FutureWarning,\n"
          ]
        },
        {
          "output_type": "display_data",
          "data": {
            "image/png": "[encoded data removed]",
            "text/plain": [
              "<Figure size 432x288 with 1 Axes>"
            ]
          },
          "metadata": {
            "needs_background": "light"
          }
        }
      ]
    }
  ]
}